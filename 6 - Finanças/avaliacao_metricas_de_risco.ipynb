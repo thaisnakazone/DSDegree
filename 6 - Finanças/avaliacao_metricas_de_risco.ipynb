{
 "cells": [
  {
   "cell_type": "markdown",
   "id": "727d1bc5",
   "metadata": {},
   "source": [
    "# Métricas de Risco <a class=\"anchor\" id=\"5\"></a>"
   ]
  },
  {
   "cell_type": "code",
   "execution_count": 1,
   "id": "83653c39",
   "metadata": {},
   "outputs": [],
   "source": [
    "# Bibliotecas\n",
    "import datetime as dt\n",
    "import numpy as np\n",
    "import pandas as pd\n",
    "import yahoo_fin.stock_info as si\n",
    "import matplotlib.pyplot as plt\n",
    "\n",
    "import warnings\n",
    "warnings.filterwarnings('ignore')"
   ]
  },
  {
   "cell_type": "markdown",
   "id": "3b20ce71",
   "metadata": {},
   "source": [
    "1. É possível o ES apresentar um valor menor (em módulo) que o VaR:   \n",
    "a) sob o mesmo nível de confiança?   \n",
    "b) sob um nível de confiança maior (ex: ES 95% e VaR 99%)?   \n",
    "c) sob um nível de confiança menor (ex: ES 99% e VaR 95%)?"
   ]
  },
  {
   "cell_type": "markdown",
   "id": "55f5eb39",
   "metadata": {},
   "source": [
    "Respostas\n",
    "\n",
    "a) Não. Sob o mesmo nível de confiança, o ES será sempre maior (em módulo) que o VaR.   \n",
    "Como o ES é o valor médio dos estouros do VaR, se o valor do VaR fosse -0,15, por exemplo, o ES ficaria sempre abaixo desse valor (-0,18, por exemplo). No entanto, colocando esses valores em módulo, o ES seria sempre maior que o VaR.\n",
    "\n",
    "b) Sim. Sob um nível de confiança maior (ex: ES 95% e VaR 99%), o ES pode ser menor (em módulo) que o VaR.   \n",
    "Pensando em um gráfico de distribuição normal, o valor do VaR com 99% de confiança estaria mais à esquerda em relação ao VaR com 95%.   \n",
    "Com isso, o valor do ES com 95% de confiança poderia estar à direita em relação ao VaR com 99%, ou seja, o ES poderia ser menor (em módulo) que o VaR.\n",
    "\n",
    "c) Não. Sob um nível de confiança menor (ex: ES 99% e VaR 95%), o ES será sempre maior (em módulo) que o VaR.   \n",
    "Assim como no item b, se pensarmos no mesmo gráfico de distribuição, o valor do VaR com 95% de confiança estaria mais à direita em relação ao VaR com 99%.   \n",
    "Com isso, o valor do ES com 99% de confiança estaria sempre à esquerda em relação ao VaR com 95%, ou seja, o ES seria sempre maior (em módulo) que o VaR."
   ]
  },
  {
   "cell_type": "markdown",
   "id": "ba0b893f",
   "metadata": {},
   "source": [
    "---"
   ]
  },
  {
   "cell_type": "markdown",
   "id": "165d4681",
   "metadata": {},
   "source": [
    "2. Calcule o VaR histórico com nível de confiança de 95% e HP=1, para a última data disponível de USD Spot (30/04/2021), utilizando uma amostra de 500 dias."
   ]
  },
  {
   "cell_type": "code",
   "execution_count": 2,
   "id": "9abfb941",
   "metadata": {},
   "outputs": [
    {
     "name": "stdout",
     "output_type": "stream",
     "text": [
      "\"BRL=X\" com última data disponível em 30/04/2021\n",
      "\n",
      "HP=1 e amostra de 500 dias\n",
      "\n",
      "VaR 95% = R$ 0.10\n"
     ]
    }
   ],
   "source": [
    "# Captura dos dados\n",
    "def read_fx_input(fx_name='BRL=X'):\n",
    "    df = si.get_data('BRL=X', start_date = '04/01/2010', end_date='30/04/2021', index_as_date = True, interval = '1d')\n",
    "    df = df.loc[:,['adjclose']]\n",
    "    df.columns = ['price']\n",
    "    return df\n",
    "\n",
    "df_inputs = read_fx_input()\n",
    "\n",
    "def calc_ret_pnl(df, hp):\n",
    "    df['return'] = (df['price']/df['price'].shift(hp) - 1) # Retorno\n",
    "    df['PnL'] = df['price'] - df['price'].shift(hp) # Realizado\n",
    "    return df\n",
    "\n",
    "df_metrics = calc_ret_pnl(df_inputs, hp=1)\n",
    "\n",
    "amostra_PnL = df_metrics.PnL.iloc[len(df_metrics)-500:len(df_metrics)]\n",
    "\n",
    "alpha = 0.05\n",
    "var = amostra_PnL.quantile(alpha)\n",
    "\n",
    "print('\"BRL=X\" com última data disponível em 30/04/2021\\n')\n",
    "print('HP=1 e amostra de 500 dias\\n')\n",
    "print(\"VaR 95% = R$ \" + \"{:.2f}\".format(-var))"
   ]
  },
  {
   "cell_type": "markdown",
   "id": "80ef25c7",
   "metadata": {},
   "source": [
    "---"
   ]
  },
  {
   "cell_type": "markdown",
   "id": "e80b5803",
   "metadata": {},
   "source": [
    "Fazendo com __'ITUB4.SA'__ sem usar end_date='30/04/2021'"
   ]
  },
  {
   "cell_type": "code",
   "execution_count": 3,
   "id": "011aa4af",
   "metadata": {},
   "outputs": [
    {
     "name": "stdout",
     "output_type": "stream",
     "text": [
      "ITUB4.SA\n",
      "\n",
      "HP=1 e amostra de 500 dias\n",
      "\n",
      "VaR 95% = R$ 0.83\n"
     ]
    }
   ],
   "source": [
    "# Captura dos dados\n",
    "def read_fx_input(fx_name='ITUB4.SA'):\n",
    "    df = si.get_data('ITUB4.SA', start_date = '01/01/2010', index_as_date = True, interval = '1d')\n",
    "    df = df.loc[:,['adjclose']]\n",
    "    df.columns = ['price']\n",
    "    return df\n",
    "\n",
    "df_inputs = read_fx_input()\n",
    "\n",
    "def calc_ret_pnl(df, hp):\n",
    "    df['return'] = (df['price']/df['price'].shift(hp) - 1) # Retorno\n",
    "    df['PnL'] = df['price'] - df['price'].shift(hp) # Realizado\n",
    "    return df\n",
    "\n",
    "df_metrics = calc_ret_pnl(df_inputs, hp=1)\n",
    "\n",
    "amostra_PnL = df_metrics.PnL.iloc[len(df_metrics)-500:len(df_metrics)]\n",
    "\n",
    "alpha = 0.05\n",
    "var = amostra_PnL.quantile(alpha)\n",
    "\n",
    "print('ITUB4.SA\\n')\n",
    "print('HP=1 e amostra de 500 dias\\n')\n",
    "print(\"VaR 95% = R$ \" + \"{:.2f}\".format(-var))"
   ]
  },
  {
   "cell_type": "markdown",
   "id": "99d5f409",
   "metadata": {},
   "source": [
    "---"
   ]
  },
  {
   "cell_type": "markdown",
   "id": "0737fd81",
   "metadata": {},
   "source": [
    "3. Calcule o ES histórico com nível de confiança de 97,5% e HP=1, para a última data disponível de USD Spot (30/04/2021), utilizando uma amostra de 1000 dias."
   ]
  },
  {
   "cell_type": "code",
   "execution_count": 4,
   "id": "5ab06a54",
   "metadata": {},
   "outputs": [
    {
     "name": "stdout",
     "output_type": "stream",
     "text": [
      "\"BRL=X\" com última data disponível em 30/04/2021\n",
      "\n",
      "HP=1 e amostra de 1000 dias\n",
      "\n",
      "VaR 97,5% = R$ 0.11\n",
      "ES 97,5% = R$ 0.15\n"
     ]
    }
   ],
   "source": [
    "# Captura dos dados\n",
    "def read_fx_input(fx_name='BRL=X'):\n",
    "    df = si.get_data('BRL=X', start_date = '04/01/2010', end_date='30/04/2021', index_as_date = True, interval = '1d')\n",
    "    df = df.loc[:,['adjclose']]\n",
    "    df.columns = ['price']\n",
    "    return df\n",
    "\n",
    "df_inputs = read_fx_input()\n",
    "\n",
    "def calc_ret_pnl(df, hp):\n",
    "    df['return'] = (df['price']/df['price'].shift(hp) - 1) # Retorno\n",
    "    df['PnL'] = df['price'] - df['price'].shift(hp) # Realizado\n",
    "    return df\n",
    "\n",
    "df_metrics = calc_ret_pnl(df_inputs, hp=1)\n",
    "\n",
    "amostra_PnL = df_metrics.PnL.iloc[len(df_metrics)-1000:len(df_metrics)]\n",
    "\n",
    "print('\"BRL=X\" com última data disponível em 30/04/2021\\n')\n",
    "print('HP=1 e amostra de 1000 dias\\n')\n",
    "\n",
    "alpha = 0.025\n",
    "var = amostra_PnL.quantile(alpha)\n",
    "print(\"VaR 97,5% = R$ \" + \"{:.2f}\".format(-var))\n",
    "\n",
    "es = amostra_PnL[amostra_PnL <= var].mean()\n",
    "print(\"ES 97,5% = R$ \" + \"{:.2f}\".format(-es))"
   ]
  },
  {
   "cell_type": "markdown",
   "id": "bb8f7634",
   "metadata": {},
   "source": [
    "---"
   ]
  },
  {
   "cell_type": "markdown",
   "id": "90892cb0",
   "metadata": {},
   "source": [
    "Fazendo com __'ITUB4.SA'__ sem usar end_date='30/04/2021'"
   ]
  },
  {
   "cell_type": "code",
   "execution_count": 5,
   "id": "2879ad75",
   "metadata": {},
   "outputs": [
    {
     "name": "stdout",
     "output_type": "stream",
     "text": [
      "ITUB4.SA\n",
      "\n",
      "HP=1 e amostra de 1000 dias\n",
      "\n",
      "VaR 97,5% = R$ 3.42\n",
      "ES 97,5% = R$ 5.14\n"
     ]
    }
   ],
   "source": [
    "# Captura dos dados\n",
    "def read_fx_input(fx_name='ITUB4.SA'):\n",
    "    df = si.get_data('ITUB4.SA', start_date = '01/01/2010', index_as_date = True, interval = '1d')\n",
    "    df = df.loc[:,['adjclose']]\n",
    "    df.columns = ['price']\n",
    "    return df\n",
    "\n",
    "df_inputs = read_fx_input()\n",
    "\n",
    "def calc_ret_pnl(df, hp):\n",
    "    df['return'] = (df['price']/df['price'].shift(hp) - 1) # Retorno\n",
    "    df['PnL'] = df['price'] - df['price'].shift(hp) # Realizado\n",
    "    return df\n",
    "\n",
    "df_metrics = calc_ret_pnl(df_inputs, hp=10)\n",
    "\n",
    "amostra_PnL = df_metrics.PnL.iloc[len(df_metrics)-1000:len(df_metrics)]\n",
    "\n",
    "print('ITUB4.SA\\n')\n",
    "print('HP=1 e amostra de 1000 dias\\n')\n",
    "\n",
    "alpha = 0.025\n",
    "var = amostra_PnL.quantile(alpha)\n",
    "print(\"VaR 97,5% = R$ \" + \"{:.2f}\".format(-var))\n",
    "\n",
    "es = amostra_PnL[amostra_PnL <= var].mean()\n",
    "print(\"ES 97,5% = R$ \" + \"{:.2f}\".format(-es))"
   ]
  },
  {
   "cell_type": "markdown",
   "id": "47800c2f",
   "metadata": {},
   "source": [
    "---"
   ]
  },
  {
   "cell_type": "markdown",
   "id": "90b4dee7",
   "metadata": {},
   "source": [
    "4. Calcule a série temporal de VaR 99% e 97,5%, com HP=1, utilizando uma amostra de 1000 dias para todas as datas possíveis.   \n",
    "Dica: Há 2844 dias com preços na base, removendo HP=1 para cálculo do primeiro retorno e 1000 para amostra do 1º VaR, teremos como resultado uma série de VaRs de tamanho 1843."
   ]
  },
  {
   "cell_type": "markdown",
   "id": "3aaae562",
   "metadata": {},
   "source": [
    "_Obs.: A dica acima não condiz com as bases do Yahoo Finance utilizadas abaixo._"
   ]
  },
  {
   "cell_type": "code",
   "execution_count": 6,
   "id": "cf5cd56a",
   "metadata": {},
   "outputs": [],
   "source": [
    "# Captura dos dados\n",
    "def read_fx_input(fx_name='BRL=X'):\n",
    "    df = si.get_data('BRL=X', start_date = '04/01/2010', end_date='30/04/2021', index_as_date = True, interval = '1d')\n",
    "    df = df.loc[:,['adjclose']]\n",
    "    df.columns = ['price']\n",
    "    return df\n",
    "\n",
    "df_inputs = read_fx_input()\n",
    "\n",
    "def calc_ret_pnl(df, hp):\n",
    "    df['return'] = (df['price']/df['price'].shift(hp) - 1) # Retorno\n",
    "    df['PnL'] = df['price'] - df['price'].shift(hp) # Realizado\n",
    "    return df\n",
    "\n",
    "df_metrics = calc_ret_pnl(df_inputs, hp=1)\n",
    "\n",
    "list_var_99 = []\n",
    "list_var_975 = []\n",
    "list_datas = []\n",
    "\n",
    "# Iterando de trás para frente, pois a \"amostra_PnL\" pega primeiro os 1000 dias mais recentes. \n",
    "for i in range(len(df_metrics), 0, -1): \n",
    "    amostra_PnL = df_metrics.PnL.iloc[len(df_metrics)-1000-i:len(df_metrics)-i]\n",
    "    list_var_99.append(amostra_PnL.quantile(0.01))\n",
    "    list_var_975.append(amostra_PnL.quantile(0.025))\n",
    "    list_datas.append(df_metrics.index[len(df_metrics)-i])\n",
    "    \n",
    "df_vars = pd.DataFrame()\n",
    "df_vars['Data'] = list_datas\n",
    "df_vars.set_index('Data', inplace=True)\n",
    "df_vars['VaR 99%'] = list_var_99\n",
    "df_vars['VaR 97,5%'] = list_var_975"
   ]
  },
  {
   "cell_type": "code",
   "execution_count": 7,
   "id": "520bf589",
   "metadata": {},
   "outputs": [
    {
     "data": {
      "text/html": [
       "<div>\n",
       "<style scoped>\n",
       "    .dataframe tbody tr th:only-of-type {\n",
       "        vertical-align: middle;\n",
       "    }\n",
       "\n",
       "    .dataframe tbody tr th {\n",
       "        vertical-align: top;\n",
       "    }\n",
       "\n",
       "    .dataframe thead th {\n",
       "        text-align: right;\n",
       "    }\n",
       "</style>\n",
       "<table border=\"1\" class=\"dataframe\">\n",
       "  <thead>\n",
       "    <tr style=\"text-align: right;\">\n",
       "      <th></th>\n",
       "      <th>VaR 99%</th>\n",
       "      <th>VaR 97,5%</th>\n",
       "    </tr>\n",
       "    <tr>\n",
       "      <th>Data</th>\n",
       "      <th></th>\n",
       "      <th></th>\n",
       "    </tr>\n",
       "  </thead>\n",
       "  <tbody>\n",
       "    <tr>\n",
       "      <th>2010-03-31</th>\n",
       "      <td>NaN</td>\n",
       "      <td>NaN</td>\n",
       "    </tr>\n",
       "    <tr>\n",
       "      <th>2010-04-01</th>\n",
       "      <td>NaN</td>\n",
       "      <td>NaN</td>\n",
       "    </tr>\n",
       "    <tr>\n",
       "      <th>2010-04-04</th>\n",
       "      <td>NaN</td>\n",
       "      <td>NaN</td>\n",
       "    </tr>\n",
       "    <tr>\n",
       "      <th>2010-04-05</th>\n",
       "      <td>NaN</td>\n",
       "      <td>NaN</td>\n",
       "    </tr>\n",
       "    <tr>\n",
       "      <th>2010-04-06</th>\n",
       "      <td>NaN</td>\n",
       "      <td>NaN</td>\n",
       "    </tr>\n",
       "    <tr>\n",
       "      <th>...</th>\n",
       "      <td>...</td>\n",
       "      <td>...</td>\n",
       "    </tr>\n",
       "    <tr>\n",
       "      <th>2021-04-25</th>\n",
       "      <td>-0.146179</td>\n",
       "      <td>-0.113083</td>\n",
       "    </tr>\n",
       "    <tr>\n",
       "      <th>2021-04-26</th>\n",
       "      <td>-0.146179</td>\n",
       "      <td>-0.113083</td>\n",
       "    </tr>\n",
       "    <tr>\n",
       "      <th>2021-04-27</th>\n",
       "      <td>-0.146179</td>\n",
       "      <td>-0.113083</td>\n",
       "    </tr>\n",
       "    <tr>\n",
       "      <th>2021-04-28</th>\n",
       "      <td>-0.146179</td>\n",
       "      <td>-0.113083</td>\n",
       "    </tr>\n",
       "    <tr>\n",
       "      <th>2021-04-29</th>\n",
       "      <td>-0.146179</td>\n",
       "      <td>-0.113083</td>\n",
       "    </tr>\n",
       "  </tbody>\n",
       "</table>\n",
       "<p>2892 rows × 2 columns</p>\n",
       "</div>"
      ],
      "text/plain": [
       "             VaR 99%  VaR 97,5%\n",
       "Data                           \n",
       "2010-03-31       NaN        NaN\n",
       "2010-04-01       NaN        NaN\n",
       "2010-04-04       NaN        NaN\n",
       "2010-04-05       NaN        NaN\n",
       "2010-04-06       NaN        NaN\n",
       "...              ...        ...\n",
       "2021-04-25 -0.146179  -0.113083\n",
       "2021-04-26 -0.146179  -0.113083\n",
       "2021-04-27 -0.146179  -0.113083\n",
       "2021-04-28 -0.146179  -0.113083\n",
       "2021-04-29 -0.146179  -0.113083\n",
       "\n",
       "[2892 rows x 2 columns]"
      ]
     },
     "execution_count": 7,
     "metadata": {},
     "output_type": "execute_result"
    }
   ],
   "source": [
    "df_vars"
   ]
  },
  {
   "cell_type": "code",
   "execution_count": 8,
   "id": "3fec7897",
   "metadata": {},
   "outputs": [
    {
     "data": {
      "image/png": "[encoded data removed]",
      "text/plain": [
       "<Figure size 432x288 with 1 Axes>"
      ]
     },
     "metadata": {
      "needs_background": "light"
     },
     "output_type": "display_data"
    }
   ],
   "source": [
    "plt.plot(df_metrics['PnL'], label='PnL')\n",
    "plt.plot(df_vars['VaR 99%'], label='Var 99%')\n",
    "plt.plot(df_vars['VaR 97,5%'], label='Var 97,5%', color='purple')\n",
    "plt.legend()\n",
    "plt.title('BRL=X');"
   ]
  },
  {
   "cell_type": "markdown",
   "id": "2590107f",
   "metadata": {},
   "source": [
    "---"
   ]
  },
  {
   "cell_type": "markdown",
   "id": "7b963225",
   "metadata": {},
   "source": [
    "Fazendo com __'ITUB4.SA'__ sem usar end_date='30/04/2021'"
   ]
  },
  {
   "cell_type": "code",
   "execution_count": 9,
   "id": "fa45b472",
   "metadata": {},
   "outputs": [],
   "source": [
    "# Captura dos dados\n",
    "def read_fx_input(fx_name='ITUB4.SA'):\n",
    "    df = si.get_data('ITUB4.SA', start_date = '01/01/2010', index_as_date = True, interval = '1d')\n",
    "    df = df.loc[:,['adjclose']]\n",
    "    df.columns = ['price']\n",
    "    return df\n",
    "\n",
    "df_inputs = read_fx_input()\n",
    "\n",
    "def calc_ret_pnl(df, hp):\n",
    "    df['return'] = (df['price']/df['price'].shift(hp) - 1) # Retorno\n",
    "    df['PnL'] = df['price'] - df['price'].shift(hp) # Realizado\n",
    "    return df\n",
    "\n",
    "df_metrics = calc_ret_pnl(df_inputs, hp=1)\n",
    "\n",
    "list_var_99 = []\n",
    "list_var_975 = []\n",
    "list_datas = []\n",
    "\n",
    "# Iterando de trás para frente, pois a \"amostra_PnL\" pega primeiro os 1000 dias mais recentes. \n",
    "for i in range(len(df_metrics), 0, -1): \n",
    "    amostra_PnL = df_metrics.PnL.iloc[len(df_metrics)-1000-i:len(df_metrics)-i]\n",
    "    list_var_99.append(amostra_PnL.quantile(0.01))\n",
    "    list_var_975.append(amostra_PnL.quantile(0.025))\n",
    "    list_datas.append(df_metrics.index[len(df_metrics)-i])\n",
    "    \n",
    "df_vars = pd.DataFrame()\n",
    "df_vars['Data'] = list_datas\n",
    "df_vars.set_index('Data', inplace=True)\n",
    "df_vars['VaR 99%'] = list_var_99\n",
    "df_vars['VaR 97,5%'] = list_var_975"
   ]
  },
  {
   "cell_type": "code",
   "execution_count": 10,
   "id": "12477b16",
   "metadata": {},
   "outputs": [
    {
     "data": {
      "text/html": [
       "<div>\n",
       "<style scoped>\n",
       "    .dataframe tbody tr th:only-of-type {\n",
       "        vertical-align: middle;\n",
       "    }\n",
       "\n",
       "    .dataframe tbody tr th {\n",
       "        vertical-align: top;\n",
       "    }\n",
       "\n",
       "    .dataframe thead th {\n",
       "        text-align: right;\n",
       "    }\n",
       "</style>\n",
       "<table border=\"1\" class=\"dataframe\">\n",
       "  <thead>\n",
       "    <tr style=\"text-align: right;\">\n",
       "      <th></th>\n",
       "      <th>VaR 99%</th>\n",
       "      <th>VaR 97,5%</th>\n",
       "    </tr>\n",
       "    <tr>\n",
       "      <th>Data</th>\n",
       "      <th></th>\n",
       "      <th></th>\n",
       "    </tr>\n",
       "  </thead>\n",
       "  <tbody>\n",
       "    <tr>\n",
       "      <th>2010-01-04</th>\n",
       "      <td>NaN</td>\n",
       "      <td>NaN</td>\n",
       "    </tr>\n",
       "    <tr>\n",
       "      <th>2010-01-05</th>\n",
       "      <td>NaN</td>\n",
       "      <td>NaN</td>\n",
       "    </tr>\n",
       "    <tr>\n",
       "      <th>2010-01-06</th>\n",
       "      <td>NaN</td>\n",
       "      <td>NaN</td>\n",
       "    </tr>\n",
       "    <tr>\n",
       "      <th>2010-01-07</th>\n",
       "      <td>NaN</td>\n",
       "      <td>NaN</td>\n",
       "    </tr>\n",
       "    <tr>\n",
       "      <th>2010-01-08</th>\n",
       "      <td>NaN</td>\n",
       "      <td>NaN</td>\n",
       "    </tr>\n",
       "    <tr>\n",
       "      <th>...</th>\n",
       "      <td>...</td>\n",
       "      <td>...</td>\n",
       "    </tr>\n",
       "    <tr>\n",
       "      <th>2022-05-25</th>\n",
       "      <td>-1.507258</td>\n",
       "      <td>-1.109021</td>\n",
       "    </tr>\n",
       "    <tr>\n",
       "      <th>2022-05-26</th>\n",
       "      <td>-1.507258</td>\n",
       "      <td>-1.109021</td>\n",
       "    </tr>\n",
       "    <tr>\n",
       "      <th>2022-05-27</th>\n",
       "      <td>-1.507258</td>\n",
       "      <td>-1.109021</td>\n",
       "    </tr>\n",
       "    <tr>\n",
       "      <th>2022-05-30</th>\n",
       "      <td>-1.507258</td>\n",
       "      <td>-1.109021</td>\n",
       "    </tr>\n",
       "    <tr>\n",
       "      <th>2022-05-31</th>\n",
       "      <td>-1.507258</td>\n",
       "      <td>-1.109021</td>\n",
       "    </tr>\n",
       "  </tbody>\n",
       "</table>\n",
       "<p>3078 rows × 2 columns</p>\n",
       "</div>"
      ],
      "text/plain": [
       "             VaR 99%  VaR 97,5%\n",
       "Data                           \n",
       "2010-01-04       NaN        NaN\n",
       "2010-01-05       NaN        NaN\n",
       "2010-01-06       NaN        NaN\n",
       "2010-01-07       NaN        NaN\n",
       "2010-01-08       NaN        NaN\n",
       "...              ...        ...\n",
       "2022-05-25 -1.507258  -1.109021\n",
       "2022-05-26 -1.507258  -1.109021\n",
       "2022-05-27 -1.507258  -1.109021\n",
       "2022-05-30 -1.507258  -1.109021\n",
       "2022-05-31 -1.507258  -1.109021\n",
       "\n",
       "[3078 rows x 2 columns]"
      ]
     },
     "execution_count": 10,
     "metadata": {},
     "output_type": "execute_result"
    }
   ],
   "source": [
    "df_vars"
   ]
  },
  {
   "cell_type": "code",
   "execution_count": 11,
   "id": "6d92e9e7",
   "metadata": {},
   "outputs": [
    {
     "data": {
      "image/png": "[encoded data removed]",
      "text/plain": [
       "<Figure size 432x288 with 1 Axes>"
      ]
     },
     "metadata": {
      "needs_background": "light"
     },
     "output_type": "display_data"
    }
   ],
   "source": [
    "plt.plot(df_metrics['PnL'], label='PnL')\n",
    "plt.plot(df_vars['VaR 99%'], label='Var 99%')\n",
    "plt.plot(df_vars['VaR 97,5%'], label='Var 97,5%', color='purple')\n",
    "plt.legend()\n",
    "plt.title('ITUB4.SA');"
   ]
  },
  {
   "cell_type": "code",
   "execution_count": null,
   "id": "d9621566",
   "metadata": {},
   "outputs": [],
   "source": []
  }
 ],
 "metadata": {
  "kernelspec": {
   "display_name": "Python 3 (ipykernel)",
   "language": "python",
   "name": "python3"
  },
  "language_info": {
   "codemirror_mode": {
    "name": "ipython",
    "version": 3
   },
   "file_extension": ".py",
   "mimetype": "text/x-python",
   "name": "python",
   "nbconvert_exporter": "python",
   "pygments_lexer": "ipython3",
   "version": "3.9.12"
  }
 },
 "nbformat": 4,
 "nbformat_minor": 5
}
