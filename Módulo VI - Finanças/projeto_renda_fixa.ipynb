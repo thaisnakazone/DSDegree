{
 "cells": [
  {
   "cell_type": "markdown",
   "id": "ccbe9283",
   "metadata": {},
   "source": [
    "# Avaliação – Produto Renda Fixa\n",
    "## Construção de uma calculadora de renda fixa em Python - NTN-F\n",
    "\n",
    "\n",
    "Formato de envio: arquivo .ipynb (Jupyter Notebook) conforme instruções a seguir.\n",
    "\n",
    "\n",
    "### Funções/métodos mínimos de entrega:\n",
    "- calcula_prazo(dt_ini, dt_fim, feriados, convencao)\n",
    "    - Retorna: prazo anualizado (float)\n",
    "    - convencao: 'DU/252' ou 'DC/360'\n",
    "    \n",
    "    \n",
    "- constroi_fluxo(dt_fim, frequencia)\n",
    "    - Retorna: Lista de datas dos fluxos (list datetime.date)\n",
    "    \n",
    "    \n",
    "- calcula_pu(VF, prazo_anual, taxa_anual)\n",
    "    - Retorna pu (float)\n",
    "    \n",
    "    \n",
    "- calcula_taxa_anual(PU, prazo_anual, valor_base=100)\n",
    "    - Retorna: taxa_anual (float)\n",
    "    \n",
    "    \n",
    "- calcula_pu_ntnf(dt_venc, dt_base, tir) *\n",
    "    - Retorna: pu (float)\n",
    "    - Imprime tabela com o cashflow (Data do fluxo, VF, DU, Fator de desconto, PU)"
   ]
  },
  {
   "cell_type": "markdown",
   "id": "7f61cada",
   "metadata": {},
   "source": [
    "# Desenvolvimento do projeto"
   ]
  },
  {
   "cell_type": "code",
   "execution_count": 1,
   "id": "b2244456",
   "metadata": {},
   "outputs": [],
   "source": [
    "import pandas as pd\n",
    "import datetime as dt\n",
    "import locale\n",
    "from dateutil.relativedelta import relativedelta"
   ]
  },
  {
   "cell_type": "markdown",
   "id": "1d0da36e",
   "metadata": {},
   "source": [
    "## 1. Análise de consistência dos dados\n",
    "Verificando o calendário de feriados nacionais da ANBIMA"
   ]
  },
  {
   "cell_type": "code",
   "execution_count": 2,
   "id": "9b569483",
   "metadata": {},
   "outputs": [],
   "source": [
    "# Criando um dataframe para ler o arquivo do calendário de feriados da ANBIMA\n",
    "df_feriados = pd.read_excel('https://www.anbima.com.br/feriados/arqs/feriados_nacionais.xls')\n",
    "\n",
    "# Removendo as colunas desnecessárias para ficar apenas com as datas\n",
    "feriados = df_feriados.copy()\n",
    "feriados.drop(['Dia da Semana', 'Feriado'], axis=1, inplace=True)"
   ]
  },
  {
   "cell_type": "code",
   "execution_count": 3,
   "id": "a6b11762",
   "metadata": {},
   "outputs": [
    {
     "data": {
      "text/plain": [
       "(945, 1)"
      ]
     },
     "execution_count": 3,
     "metadata": {},
     "output_type": "execute_result"
    }
   ],
   "source": [
    "# Verificando o tamanho da base de dados\n",
    "feriados.shape"
   ]
  },
  {
   "cell_type": "code",
   "execution_count": 4,
   "id": "c1a5384a",
   "metadata": {},
   "outputs": [
    {
     "name": "stdout",
     "output_type": "stream",
     "text": [
      "<class 'pandas.core.frame.DataFrame'>\n",
      "RangeIndex: 945 entries, 0 to 944\n",
      "Data columns (total 1 columns):\n",
      " #   Column  Non-Null Count  Dtype \n",
      "---  ------  --------------  ----- \n",
      " 0   Data    941 non-null    object\n",
      "dtypes: object(1)\n",
      "memory usage: 7.5+ KB\n"
     ]
    }
   ],
   "source": [
    "# Verificando a quantidade de dados válidos\n",
    "feriados.info()"
   ]
  },
  {
   "cell_type": "code",
   "execution_count": 5,
   "id": "a4e7cbd7",
   "metadata": {},
   "outputs": [
    {
     "data": {
      "text/html": [
       "<div>\n",
       "<style scoped>\n",
       "    .dataframe tbody tr th:only-of-type {\n",
       "        vertical-align: middle;\n",
       "    }\n",
       "\n",
       "    .dataframe tbody tr th {\n",
       "        vertical-align: top;\n",
       "    }\n",
       "\n",
       "    .dataframe thead th {\n",
       "        text-align: right;\n",
       "    }\n",
       "</style>\n",
       "<table border=\"1\" class=\"dataframe\">\n",
       "  <thead>\n",
       "    <tr style=\"text-align: right;\">\n",
       "      <th></th>\n",
       "      <th>Data</th>\n",
       "    </tr>\n",
       "  </thead>\n",
       "  <tbody>\n",
       "    <tr>\n",
       "      <th>937</th>\n",
       "      <td>NaN</td>\n",
       "    </tr>\n",
       "    <tr>\n",
       "      <th>939</th>\n",
       "      <td>NaN</td>\n",
       "    </tr>\n",
       "    <tr>\n",
       "      <th>941</th>\n",
       "      <td>NaN</td>\n",
       "    </tr>\n",
       "    <tr>\n",
       "      <th>943</th>\n",
       "      <td>NaN</td>\n",
       "    </tr>\n",
       "  </tbody>\n",
       "</table>\n",
       "</div>"
      ],
      "text/plain": [
       "    Data\n",
       "937  NaN\n",
       "939  NaN\n",
       "941  NaN\n",
       "943  NaN"
      ]
     },
     "execution_count": 5,
     "metadata": {},
     "output_type": "execute_result"
    }
   ],
   "source": [
    "# Verificando os dados nulos\n",
    "feriados[feriados['Data'].isna()]"
   ]
  },
  {
   "cell_type": "code",
   "execution_count": 6,
   "id": "be906e23",
   "metadata": {},
   "outputs": [
    {
     "data": {
      "text/html": [
       "<div>\n",
       "<style scoped>\n",
       "    .dataframe tbody tr th:only-of-type {\n",
       "        vertical-align: middle;\n",
       "    }\n",
       "\n",
       "    .dataframe tbody tr th {\n",
       "        vertical-align: top;\n",
       "    }\n",
       "\n",
       "    .dataframe thead th {\n",
       "        text-align: right;\n",
       "    }\n",
       "</style>\n",
       "<table border=\"1\" class=\"dataframe\">\n",
       "  <thead>\n",
       "    <tr style=\"text-align: right;\">\n",
       "      <th></th>\n",
       "      <th>Data</th>\n",
       "    </tr>\n",
       "  </thead>\n",
       "  <tbody>\n",
       "    <tr>\n",
       "      <th>935</th>\n",
       "      <td>2078-12-25 00:00:00</td>\n",
       "    </tr>\n",
       "    <tr>\n",
       "      <th>936</th>\n",
       "      <td>Fonte: ANBIMA</td>\n",
       "    </tr>\n",
       "    <tr>\n",
       "      <th>937</th>\n",
       "      <td>NaN</td>\n",
       "    </tr>\n",
       "    <tr>\n",
       "      <th>938</th>\n",
       "      <td>1) De acordo com a Resolução n º 2.516, a part...</td>\n",
       "    </tr>\n",
       "    <tr>\n",
       "      <th>939</th>\n",
       "      <td>NaN</td>\n",
       "    </tr>\n",
       "    <tr>\n",
       "      <th>940</th>\n",
       "      <td>2) A lei nº 9.504/97 estabeleceu que, em ano e...</td>\n",
       "    </tr>\n",
       "    <tr>\n",
       "      <th>941</th>\n",
       "      <td>NaN</td>\n",
       "    </tr>\n",
       "    <tr>\n",
       "      <th>942</th>\n",
       "      <td>3) De acordo com a Resolução nº 2.596/99, no ú...</td>\n",
       "    </tr>\n",
       "    <tr>\n",
       "      <th>943</th>\n",
       "      <td>NaN</td>\n",
       "    </tr>\n",
       "    <tr>\n",
       "      <th>944</th>\n",
       "      <td>4) Esta listagem não inclui os feriados munici...</td>\n",
       "    </tr>\n",
       "  </tbody>\n",
       "</table>\n",
       "</div>"
      ],
      "text/plain": [
       "                                                  Data\n",
       "935                                2078-12-25 00:00:00\n",
       "936                                      Fonte: ANBIMA\n",
       "937                                                NaN\n",
       "938  1) De acordo com a Resolução n º 2.516, a part...\n",
       "939                                                NaN\n",
       "940  2) A lei nº 9.504/97 estabeleceu que, em ano e...\n",
       "941                                                NaN\n",
       "942  3) De acordo com a Resolução nº 2.596/99, no ú...\n",
       "943                                                NaN\n",
       "944  4) Esta listagem não inclui os feriados munici..."
      ]
     },
     "execution_count": 6,
     "metadata": {},
     "output_type": "execute_result"
    }
   ],
   "source": [
    "# Verificando os últimos registros da base de dados, já que os dados nulos aparecem no final\n",
    "feriados.tail(10)"
   ]
  },
  {
   "cell_type": "code",
   "execution_count": 7,
   "id": "125f2a32",
   "metadata": {},
   "outputs": [],
   "source": [
    "# Convertendo os dados para datetime e criando dados nulos em caso de erro\n",
    "feriados['Data'] = pd.to_datetime(feriados['Data'], errors='coerce')"
   ]
  },
  {
   "cell_type": "code",
   "execution_count": 8,
   "id": "9388f778",
   "metadata": {},
   "outputs": [
    {
     "name": "stdout",
     "output_type": "stream",
     "text": [
      "<class 'pandas.core.frame.DataFrame'>\n",
      "RangeIndex: 945 entries, 0 to 944\n",
      "Data columns (total 1 columns):\n",
      " #   Column  Non-Null Count  Dtype         \n",
      "---  ------  --------------  -----         \n",
      " 0   Data    936 non-null    datetime64[ns]\n",
      "dtypes: datetime64[ns](1)\n",
      "memory usage: 7.5 KB\n"
     ]
    }
   ],
   "source": [
    "# Verificando o tipo dos dados\n",
    "feriados.info()"
   ]
  },
  {
   "cell_type": "code",
   "execution_count": 9,
   "id": "1024bb68",
   "metadata": {},
   "outputs": [
    {
     "data": {
      "text/html": [
       "<div>\n",
       "<style scoped>\n",
       "    .dataframe tbody tr th:only-of-type {\n",
       "        vertical-align: middle;\n",
       "    }\n",
       "\n",
       "    .dataframe tbody tr th {\n",
       "        vertical-align: top;\n",
       "    }\n",
       "\n",
       "    .dataframe thead th {\n",
       "        text-align: right;\n",
       "    }\n",
       "</style>\n",
       "<table border=\"1\" class=\"dataframe\">\n",
       "  <thead>\n",
       "    <tr style=\"text-align: right;\">\n",
       "      <th></th>\n",
       "      <th>Data</th>\n",
       "    </tr>\n",
       "  </thead>\n",
       "  <tbody>\n",
       "    <tr>\n",
       "      <th>935</th>\n",
       "      <td>2078-12-25</td>\n",
       "    </tr>\n",
       "    <tr>\n",
       "      <th>936</th>\n",
       "      <td>NaT</td>\n",
       "    </tr>\n",
       "    <tr>\n",
       "      <th>937</th>\n",
       "      <td>NaT</td>\n",
       "    </tr>\n",
       "    <tr>\n",
       "      <th>938</th>\n",
       "      <td>NaT</td>\n",
       "    </tr>\n",
       "    <tr>\n",
       "      <th>939</th>\n",
       "      <td>NaT</td>\n",
       "    </tr>\n",
       "    <tr>\n",
       "      <th>940</th>\n",
       "      <td>NaT</td>\n",
       "    </tr>\n",
       "    <tr>\n",
       "      <th>941</th>\n",
       "      <td>NaT</td>\n",
       "    </tr>\n",
       "    <tr>\n",
       "      <th>942</th>\n",
       "      <td>NaT</td>\n",
       "    </tr>\n",
       "    <tr>\n",
       "      <th>943</th>\n",
       "      <td>NaT</td>\n",
       "    </tr>\n",
       "    <tr>\n",
       "      <th>944</th>\n",
       "      <td>NaT</td>\n",
       "    </tr>\n",
       "  </tbody>\n",
       "</table>\n",
       "</div>"
      ],
      "text/plain": [
       "          Data\n",
       "935 2078-12-25\n",
       "936        NaT\n",
       "937        NaT\n",
       "938        NaT\n",
       "939        NaT\n",
       "940        NaT\n",
       "941        NaT\n",
       "942        NaT\n",
       "943        NaT\n",
       "944        NaT"
      ]
     },
     "execution_count": 9,
     "metadata": {},
     "output_type": "execute_result"
    }
   ],
   "source": [
    "# Verificando os últimos registros\n",
    "feriados.tail(10)"
   ]
  },
  {
   "cell_type": "code",
   "execution_count": 10,
   "id": "78bf5856",
   "metadata": {},
   "outputs": [],
   "source": [
    "# Removendo os dados nulos\n",
    "feriados = feriados.drop(feriados[feriados['Data'].isna()].index)"
   ]
  },
  {
   "cell_type": "code",
   "execution_count": 11,
   "id": "f7c3147f",
   "metadata": {},
   "outputs": [
    {
     "data": {
      "text/html": [
       "<div>\n",
       "<style scoped>\n",
       "    .dataframe tbody tr th:only-of-type {\n",
       "        vertical-align: middle;\n",
       "    }\n",
       "\n",
       "    .dataframe tbody tr th {\n",
       "        vertical-align: top;\n",
       "    }\n",
       "\n",
       "    .dataframe thead th {\n",
       "        text-align: right;\n",
       "    }\n",
       "</style>\n",
       "<table border=\"1\" class=\"dataframe\">\n",
       "  <thead>\n",
       "    <tr style=\"text-align: right;\">\n",
       "      <th></th>\n",
       "      <th>Data</th>\n",
       "    </tr>\n",
       "  </thead>\n",
       "  <tbody>\n",
       "    <tr>\n",
       "      <th>931</th>\n",
       "      <td>2078-09-07</td>\n",
       "    </tr>\n",
       "    <tr>\n",
       "      <th>932</th>\n",
       "      <td>2078-10-12</td>\n",
       "    </tr>\n",
       "    <tr>\n",
       "      <th>933</th>\n",
       "      <td>2078-11-02</td>\n",
       "    </tr>\n",
       "    <tr>\n",
       "      <th>934</th>\n",
       "      <td>2078-11-15</td>\n",
       "    </tr>\n",
       "    <tr>\n",
       "      <th>935</th>\n",
       "      <td>2078-12-25</td>\n",
       "    </tr>\n",
       "  </tbody>\n",
       "</table>\n",
       "</div>"
      ],
      "text/plain": [
       "          Data\n",
       "931 2078-09-07\n",
       "932 2078-10-12\n",
       "933 2078-11-02\n",
       "934 2078-11-15\n",
       "935 2078-12-25"
      ]
     },
     "execution_count": 11,
     "metadata": {},
     "output_type": "execute_result"
    }
   ],
   "source": [
    "# Verificando novamente os últimos registros\n",
    "feriados.tail()"
   ]
  },
  {
   "cell_type": "code",
   "execution_count": 12,
   "id": "46e175d0",
   "metadata": {},
   "outputs": [
    {
     "data": {
      "text/html": [
       "<div>\n",
       "<style scoped>\n",
       "    .dataframe tbody tr th:only-of-type {\n",
       "        vertical-align: middle;\n",
       "    }\n",
       "\n",
       "    .dataframe tbody tr th {\n",
       "        vertical-align: top;\n",
       "    }\n",
       "\n",
       "    .dataframe thead th {\n",
       "        text-align: right;\n",
       "    }\n",
       "</style>\n",
       "<table border=\"1\" class=\"dataframe\">\n",
       "  <thead>\n",
       "    <tr style=\"text-align: right;\">\n",
       "      <th></th>\n",
       "      <th>Data</th>\n",
       "    </tr>\n",
       "  </thead>\n",
       "  <tbody>\n",
       "    <tr>\n",
       "      <th>0</th>\n",
       "      <td>2001-01-01</td>\n",
       "    </tr>\n",
       "    <tr>\n",
       "      <th>1</th>\n",
       "      <td>2001-02-26</td>\n",
       "    </tr>\n",
       "    <tr>\n",
       "      <th>2</th>\n",
       "      <td>2001-02-27</td>\n",
       "    </tr>\n",
       "    <tr>\n",
       "      <th>3</th>\n",
       "      <td>2001-04-13</td>\n",
       "    </tr>\n",
       "    <tr>\n",
       "      <th>4</th>\n",
       "      <td>2001-04-21</td>\n",
       "    </tr>\n",
       "  </tbody>\n",
       "</table>\n",
       "</div>"
      ],
      "text/plain": [
       "        Data\n",
       "0 2001-01-01\n",
       "1 2001-02-26\n",
       "2 2001-02-27\n",
       "3 2001-04-13\n",
       "4 2001-04-21"
      ]
     },
     "execution_count": 12,
     "metadata": {},
     "output_type": "execute_result"
    }
   ],
   "source": [
    "feriados.head()"
   ]
  },
  {
   "cell_type": "markdown",
   "id": "f4c7f83d",
   "metadata": {},
   "source": [
    "## 2. Análise Exploratória dos Dados"
   ]
  },
  {
   "cell_type": "markdown",
   "id": "ddadbf74",
   "metadata": {},
   "source": [
    "Criando um calendário com data inicial e final estabelecidas para verificar se os dados estão corretos."
   ]
  },
  {
   "cell_type": "code",
   "execution_count": 13,
   "id": "81cfe449",
   "metadata": {},
   "outputs": [
    {
     "name": "stdout",
     "output_type": "stream",
     "text": [
      "2028-01-01\n",
      "2028-12-31\n"
     ]
    }
   ],
   "source": [
    "# Escolhendo o ano de 2028 que, além de ser bissexto, um dos feriados cai no dia 29/02.\n",
    "dt_ini = '01/01/2028'\n",
    "dt_fim = '31/12/2028'\n",
    "\n",
    "# Convertendo as datas para datetime e depois date\n",
    "dt_ini = dt.datetime.strptime(dt_ini, \"%d/%m/%Y\").date()\n",
    "dt_fim = dt.datetime.strptime(dt_fim, \"%d/%m/%Y\").date()  \n",
    "\n",
    "print(dt_ini)\n",
    "print(dt_fim)"
   ]
  },
  {
   "cell_type": "code",
   "execution_count": 14,
   "id": "a63339c0",
   "metadata": {},
   "outputs": [],
   "source": [
    "# Definindo o local, apenas para os dias da semana aparecerem em português\n",
    "try:\n",
    "    locale.setlocale(locale.LC_ALL, 'pt_BR')\n",
    "except:\n",
    "    locale.setlocale(locale.LC_ALL, 'Portuguese_Brazil')\n",
    "\n",
    "# Criando um DF para visualizar as datas e dias da semana\n",
    "df_dias_corridos = pd.DataFrame({'Data': pd.date_range(dt_ini, dt_fim)})\n",
    "df_dias_corridos['Dia da semana'] = df_dias_corridos['Data'].dt.strftime('%A')"
   ]
  },
  {
   "cell_type": "code",
   "execution_count": 15,
   "id": "e3a0293e",
   "metadata": {},
   "outputs": [
    {
     "data": {
      "text/html": [
       "<div>\n",
       "<style scoped>\n",
       "    .dataframe tbody tr th:only-of-type {\n",
       "        vertical-align: middle;\n",
       "    }\n",
       "\n",
       "    .dataframe tbody tr th {\n",
       "        vertical-align: top;\n",
       "    }\n",
       "\n",
       "    .dataframe thead th {\n",
       "        text-align: right;\n",
       "    }\n",
       "</style>\n",
       "<table border=\"1\" class=\"dataframe\">\n",
       "  <thead>\n",
       "    <tr style=\"text-align: right;\">\n",
       "      <th></th>\n",
       "      <th>Data</th>\n",
       "      <th>Dia da semana</th>\n",
       "    </tr>\n",
       "  </thead>\n",
       "  <tbody>\n",
       "    <tr>\n",
       "      <th>0</th>\n",
       "      <td>2028-01-01</td>\n",
       "      <td>sábado</td>\n",
       "    </tr>\n",
       "    <tr>\n",
       "      <th>1</th>\n",
       "      <td>2028-01-02</td>\n",
       "      <td>domingo</td>\n",
       "    </tr>\n",
       "    <tr>\n",
       "      <th>2</th>\n",
       "      <td>2028-01-03</td>\n",
       "      <td>segunda-feira</td>\n",
       "    </tr>\n",
       "    <tr>\n",
       "      <th>3</th>\n",
       "      <td>2028-01-04</td>\n",
       "      <td>terça-feira</td>\n",
       "    </tr>\n",
       "    <tr>\n",
       "      <th>4</th>\n",
       "      <td>2028-01-05</td>\n",
       "      <td>quarta-feira</td>\n",
       "    </tr>\n",
       "  </tbody>\n",
       "</table>\n",
       "</div>"
      ],
      "text/plain": [
       "        Data  Dia da semana\n",
       "0 2028-01-01         sábado\n",
       "1 2028-01-02        domingo\n",
       "2 2028-01-03  segunda-feira\n",
       "3 2028-01-04    terça-feira\n",
       "4 2028-01-05   quarta-feira"
      ]
     },
     "execution_count": 15,
     "metadata": {},
     "output_type": "execute_result"
    }
   ],
   "source": [
    "df_dias_corridos.head()"
   ]
  },
  {
   "cell_type": "code",
   "execution_count": 16,
   "id": "fe38254a",
   "metadata": {},
   "outputs": [
    {
     "data": {
      "text/plain": [
       "5"
      ]
     },
     "execution_count": 16,
     "metadata": {},
     "output_type": "execute_result"
    }
   ],
   "source": [
    "# Verificando se o dia da semana bate com o calendário\n",
    "dt_ini.weekday()"
   ]
  },
  {
   "cell_type": "code",
   "execution_count": 17,
   "id": "5118ca37",
   "metadata": {},
   "outputs": [
    {
     "data": {
      "text/plain": [
       "366"
      ]
     },
     "execution_count": 17,
     "metadata": {},
     "output_type": "execute_result"
    }
   ],
   "source": [
    "# Verificando se 2028 bate com o ano bissexto\n",
    "len(df_dias_corridos)"
   ]
  },
  {
   "cell_type": "code",
   "execution_count": 18,
   "id": "75b698ef",
   "metadata": {},
   "outputs": [],
   "source": [
    "# Criando um filtro para selecionar os feriados, de acordo com as datas inicial e final estabelecidas\n",
    "filtro_feriados = [feriado.date() for feriado in feriados['Data'] if dt_ini <= feriado <= dt_fim]"
   ]
  },
  {
   "cell_type": "code",
   "execution_count": 19,
   "id": "b2973977",
   "metadata": {},
   "outputs": [
    {
     "data": {
      "text/plain": [
       "[datetime.date(2028, 1, 1),\n",
       " datetime.date(2028, 2, 28),\n",
       " datetime.date(2028, 2, 29),\n",
       " datetime.date(2028, 4, 14),\n",
       " datetime.date(2028, 4, 21),\n",
       " datetime.date(2028, 5, 1),\n",
       " datetime.date(2028, 6, 15),\n",
       " datetime.date(2028, 9, 7),\n",
       " datetime.date(2028, 10, 12),\n",
       " datetime.date(2028, 11, 2),\n",
       " datetime.date(2028, 11, 15),\n",
       " datetime.date(2028, 12, 25)]"
      ]
     },
     "execution_count": 19,
     "metadata": {},
     "output_type": "execute_result"
    }
   ],
   "source": [
    "filtro_feriados"
   ]
  },
  {
   "cell_type": "code",
   "execution_count": 20,
   "id": "2f4838f5",
   "metadata": {},
   "outputs": [
    {
     "data": {
      "text/plain": [
       "12"
      ]
     },
     "execution_count": 20,
     "metadata": {},
     "output_type": "execute_result"
    }
   ],
   "source": [
    "len(filtro_feriados)"
   ]
  },
  {
   "cell_type": "code",
   "execution_count": 21,
   "id": "e7c0ebe4",
   "metadata": {},
   "outputs": [
    {
     "name": "stdout",
     "output_type": "stream",
     "text": [
      "Data de liquidação: 2022-02-21\n",
      "Data do vencimento em dia útil: 2031-01-02\n",
      "Dias corridos: 3236\n",
      "Dias úteis: 2225\n"
     ]
    }
   ],
   "source": [
    "# Definindo outras datas para ver se a quantidade de dias úteis/corridos está de acordo com o site do Tesouro Direto\n",
    "dt_ini = dt.date.today()\n",
    "dt_fim = '01/01/2031'\n",
    "dt_fim = dt.datetime.strptime(dt_fim, \"%d/%m/%Y\").date()\n",
    "\n",
    "dt_ini += dt.timedelta(days=1) # Liquidação = D+1\n",
    "\n",
    "filtro_feriados = [feriado.date() for feriado in feriados['Data'] if dt_ini <= feriado <= dt_fim]\n",
    "\n",
    "while (dt_ini.weekday() > 4) or (dt_ini in filtro_feriados):\n",
    "    dt_ini += dt.timedelta(days=1)\n",
    "print(f'Data de liquidação: {dt_ini}')\n",
    "\n",
    "# Quantidade de dias corridos\n",
    "dias_corridos = (dt_fim-dt_ini).days\n",
    "\n",
    "# Quantidade de dias úteis\n",
    "while (dt_fim.weekday() > 4) or (dt_fim in filtro_feriados):\n",
    "    dt_fim += dt.timedelta(days=1)\n",
    "    \n",
    "data_atual = dt_ini\n",
    "dias_uteis = 0\n",
    "while data_atual <= dt_fim:\n",
    "    data_atual += dt.timedelta(days=1)\n",
    "    if data_atual > dt_fim:\n",
    "        break\n",
    "    if (data_atual in filtro_feriados) or (data_atual.weekday() > 4):\n",
    "        continue\n",
    "    else:\n",
    "        dias_uteis += 1\n",
    "        \n",
    "print(f'Data do vencimento em dia útil: {dt_fim}') \n",
    "print(f'Dias corridos: {dias_corridos}')\n",
    "print(f'Dias úteis: {dias_uteis}')"
   ]
  },
  {
   "cell_type": "markdown",
   "id": "5e36938b",
   "metadata": {},
   "source": [
    "## 3. Calculadora de renda fixa em Python - NTN-F"
   ]
  },
  {
   "cell_type": "markdown",
   "id": "724d7dfa",
   "metadata": {},
   "source": [
    "Serão realizados dois testes neste projeto:   \n",
    "    - Teste 1: NTN-F de 20/05/2008 (data de compra) a 01/01/2014, com TIR = 13,66%;   \n",
    "    - Teste 2: NTN-F de 18/02/2022 (data de compra) a 01/01/2031, com TIR = 11,48%."
   ]
  },
  {
   "cell_type": "markdown",
   "id": "8bbbb7f3",
   "metadata": {},
   "source": [
    "### 3.1 Prazo"
   ]
  },
  {
   "cell_type": "markdown",
   "id": "12230956",
   "metadata": {},
   "source": [
    "### 3.1.1 Prazo anualizado"
   ]
  },
  {
   "cell_type": "code",
   "execution_count": 22,
   "id": "4d5e1296",
   "metadata": {},
   "outputs": [],
   "source": [
    "def calcula_prazo(dt_ini, dt_fim, feriados, convencao):\n",
    "    \n",
    "    # Convertendo as datas de string para date\n",
    "    dt_ini = dt.datetime.strptime(dt_ini, \"%d/%m/%Y\").date()\n",
    "    dt_fim = dt.datetime.strptime(dt_fim, \"%d/%m/%Y\").date()\n",
    "    \n",
    "    # Data de liquidação (D+1)\n",
    "    dt_ini += dt.timedelta(days=1)\n",
    "    \n",
    "    # Removendo as colunas desnecessárias em \"df_feriados\" para ficar apenas com as datas\n",
    "    df_feriados = feriados.copy()\n",
    "    df_feriados.drop(['Dia da Semana', 'Feriado'], axis=1, inplace=True)\n",
    "\n",
    "    # Convertendo os dados de \"df_feriados\" para datetime e criando dados nulos em caso de erro\n",
    "    df_feriados['Data'] = pd.to_datetime(df_feriados['Data'], errors='coerce')\n",
    "    \n",
    "    # Removendo os dados nulos de \"df_feriados\"\n",
    "    df_feriados = df_feriados.drop(df_feriados[df_feriados['Data'].isna()].index)\n",
    "    \n",
    "    # Criando um filtro para selecionar os feriados, de acordo com as datas inicial e final\n",
    "    filtro_feriados = [feriado.date() for feriado in df_feriados['Data'] if dt_ini <= feriado <= dt_fim]\n",
    "\n",
    "    # Data de liquidação em dia útil\n",
    "    while (dt_ini.weekday() > 4) or (dt_ini in filtro_feriados):\n",
    "        dt_ini += dt.timedelta(days=1)\n",
    "        \n",
    "    # Quantidade de dias corridos\n",
    "    dias_corridos = (dt_fim-dt_ini).days\n",
    "\n",
    "    # Quantidade de dias úteis\n",
    "    while (dt_fim.weekday() > 4) or (dt_fim in filtro_feriados):\n",
    "        dt_fim += dt.timedelta(days=1)\n",
    "\n",
    "    data_atual = dt_ini\n",
    "    dias_uteis = 0\n",
    "    while data_atual <= dt_fim:\n",
    "        data_atual += dt.timedelta(days=1)\n",
    "        if data_atual > dt_fim:\n",
    "            break\n",
    "        if (data_atual in filtro_feriados) or (data_atual.weekday() > 4):\n",
    "            continue\n",
    "        else:\n",
    "            dias_uteis += 1\n",
    "\n",
    "    # Anualizando o prazo\n",
    "    if convencao == 'DU/252':\n",
    "        prazo_anualizado = round(dias_uteis/252, 14)\n",
    "    elif convencao == 'DC/360':\n",
    "        prazo_anualizado = round(dias_corridos/360, 14)\n",
    "        \n",
    "    return prazo_anualizado"
   ]
  },
  {
   "cell_type": "code",
   "execution_count": 23,
   "id": "e6a02ac8",
   "metadata": {},
   "outputs": [],
   "source": [
    "# Definindo as datas e feriados para o \"Teste 1\"\n",
    "dt_ini = '20/05/2008'\n",
    "dt_fim = '01/01/2014'\n",
    "feriados = pd.read_excel('https://www.anbima.com.br/feriados/arqs/feriados_nacionais.xls')"
   ]
  },
  {
   "cell_type": "code",
   "execution_count": 24,
   "id": "fbfc064c",
   "metadata": {},
   "outputs": [
    {
     "name": "stdout",
     "output_type": "stream",
     "text": [
      "Prazo anualizado (dias corridos): 5.69722222222222\n"
     ]
    }
   ],
   "source": [
    "# Teste de prazo anualizado \"DC/360\"\n",
    "convencao = 'DC/360'\n",
    "resposta = calcula_prazo(dt_ini, dt_fim, feriados, convencao)\n",
    "print(f'Prazo anualizado (dias corridos): {resposta}')"
   ]
  },
  {
   "cell_type": "code",
   "execution_count": 25,
   "id": "5757aca8",
   "metadata": {},
   "outputs": [
    {
     "name": "stdout",
     "output_type": "stream",
     "text": [
      "Prazo anualizado (dias úteis): 5.61507936507936\n"
     ]
    }
   ],
   "source": [
    "# Teste de prazo anualizado \"DU/252\"\n",
    "convencao = 'DU/252'\n",
    "resposta = calcula_prazo(dt_ini, dt_fim, feriados, convencao)\n",
    "print(f'Prazo anualizado (dias úteis): {resposta}')"
   ]
  },
  {
   "cell_type": "markdown",
   "id": "3b5935a5",
   "metadata": {},
   "source": [
    "### 3.1.2 Prazo em dias"
   ]
  },
  {
   "cell_type": "code",
   "execution_count": 26,
   "id": "1e21512a",
   "metadata": {},
   "outputs": [],
   "source": [
    "def calcula_prazo_dias(dt_ini, dt_fim, feriados, tipo):\n",
    "    \n",
    "    # Convertendo as datas de string para date\n",
    "    dt_ini = dt.datetime.strptime(dt_ini, \"%d/%m/%Y\").date()\n",
    "    dt_fim = dt.datetime.strptime(dt_fim, \"%d/%m/%Y\").date()\n",
    "    \n",
    "    # Data de liquidação (D+1)\n",
    "    dt_ini += dt.timedelta(days=1)\n",
    "    \n",
    "    # Removendo as colunas desnecessárias em \"df_feriados\" para ficar apenas com as datas\n",
    "    df_feriados = feriados.copy()\n",
    "    df_feriados.drop(['Dia da Semana', 'Feriado'], axis=1, inplace=True)\n",
    "\n",
    "    # Convertendo os dados de \"df_feriados\" para datetime e criando dados nulos em caso de erro\n",
    "    df_feriados['Data'] = pd.to_datetime(df_feriados['Data'], errors='coerce')\n",
    "    \n",
    "    # Removendo os dados nulos de \"df_feriados\"\n",
    "    df_feriados = df_feriados.drop(df_feriados[df_feriados['Data'].isna()].index)\n",
    "    \n",
    "    # Criando um filtro para selecionar os feriados, de acordo com as datas inicial e final\n",
    "    filtro_feriados = [feriado.date() for feriado in df_feriados['Data'] if dt_ini <= feriado <= dt_fim]\n",
    "\n",
    "    # Data de liquidação em dia útil\n",
    "    while (dt_ini.weekday() > 4) or (dt_ini in filtro_feriados):\n",
    "        dt_ini += dt.timedelta(days=1)\n",
    "        \n",
    "    # Quantidade de dias corridos\n",
    "    dias_corridos = (dt_fim-dt_ini).days\n",
    "\n",
    "    # Quantidade de dias úteis\n",
    "    while (dt_fim.weekday() > 4) or (dt_fim in filtro_feriados):\n",
    "        dt_fim += dt.timedelta(days=1)\n",
    "\n",
    "    data_atual = dt_ini\n",
    "    dias_uteis = 0\n",
    "    while data_atual <= dt_fim:\n",
    "        data_atual += dt.timedelta(days=1)\n",
    "        if data_atual > dt_fim:\n",
    "            break\n",
    "        if (data_atual in filtro_feriados) or (data_atual.weekday() > 4):\n",
    "            continue\n",
    "        else:\n",
    "            dias_uteis += 1\n",
    "\n",
    "    # Verificando a convenção para dar o prazo em dias úteis ou corridos\n",
    "    if tipo == 'DU':\n",
    "        prazo_dias = dias_uteis\n",
    "    elif tipo == 'DC':\n",
    "        prazo_dias = dias_corridos\n",
    "        \n",
    "    return prazo_dias"
   ]
  },
  {
   "cell_type": "code",
   "execution_count": 27,
   "id": "4c8ab0c1",
   "metadata": {},
   "outputs": [
    {
     "name": "stdout",
     "output_type": "stream",
     "text": [
      "Prazo em dias corridos: 2051\n"
     ]
    }
   ],
   "source": [
    "# Teste de prazo em dias \"DC\"\n",
    "tipo = 'DC'\n",
    "resposta = calcula_prazo_dias(dt_ini, dt_fim, feriados, tipo)\n",
    "print(f'Prazo em dias corridos: {resposta}')"
   ]
  },
  {
   "cell_type": "code",
   "execution_count": 28,
   "id": "021560aa",
   "metadata": {},
   "outputs": [
    {
     "name": "stdout",
     "output_type": "stream",
     "text": [
      "Prazo em dias úteis: 1415\n"
     ]
    }
   ],
   "source": [
    "# Teste de prazo em dias \"DU\"\n",
    "tipo = 'DU'\n",
    "resposta = calcula_prazo_dias(dt_ini, dt_fim, feriados, tipo)\n",
    "print(f'Prazo em dias úteis: {resposta}')"
   ]
  },
  {
   "cell_type": "markdown",
   "id": "fa2d1084",
   "metadata": {},
   "source": [
    "### 3.2 Fluxo"
   ]
  },
  {
   "cell_type": "code",
   "execution_count": 29,
   "id": "3a9d1a8a",
   "metadata": {},
   "outputs": [],
   "source": [
    "def constroi_fluxo(dt_fim, frequencia):\n",
    "\n",
    "    # Convertendo a data de string para date\n",
    "    dt_fim = dt.datetime.strptime(dt_fim, \"%d/%m/%Y\").date()\n",
    "    \n",
    "    # Definindo a data de compra\n",
    "    dt_hoje = '20/05/2008'\n",
    "    dt_hoje = dt.datetime.strptime(dt_hoje, \"%d/%m/%Y\").date()\n",
    "    \n",
    "    # Criando um laço para pegar as datas de pagamento dos cupons, partindo de \"dt_fim\" até chegar em \"dt_hoje\"\n",
    "    dt_subtrai_fim = dt_fim\n",
    "    lista_de_datas_dos_fluxos = []\n",
    "    \n",
    "    if frequencia == 'anual':\n",
    "        freq = relativedelta(years=+1)\n",
    "    elif frequencia == 'semestral':\n",
    "        freq = relativedelta(months=+6)\n",
    "    elif frequencia == 'trimestral':\n",
    "        freq = relativedelta(months=+3)\n",
    "    elif frequencia == 'mensal':\n",
    "        freq = relativedelta(months=+1)\n",
    "    \n",
    "    while dt_subtrai_fim > dt_hoje:\n",
    "        lista_de_datas_dos_fluxos.append(dt_subtrai_fim)\n",
    "        dt_subtrai_fim -= freq\n",
    "        \n",
    "    # Ordenando a lista com as datas dos fluxos\n",
    "    lista_de_datas_dos_fluxos.sort()\n",
    "    \n",
    "    return lista_de_datas_dos_fluxos"
   ]
  },
  {
   "cell_type": "code",
   "execution_count": 30,
   "id": "2dd5f97c",
   "metadata": {},
   "outputs": [],
   "source": [
    "# # Teste de fluxo com frequencia = 'anual'\n",
    "# frequencia = 'anual'\n",
    "# resposta = constroi_fluxo(dt_fim, frequencia)\n",
    "# print('Datas dos fluxos com frequência anual:')\n",
    "# resposta"
   ]
  },
  {
   "cell_type": "code",
   "execution_count": 31,
   "id": "5d2c36ec",
   "metadata": {},
   "outputs": [
    {
     "name": "stdout",
     "output_type": "stream",
     "text": [
      "Datas dos fluxos com frequência semestral:\n"
     ]
    },
    {
     "data": {
      "text/plain": [
       "[datetime.date(2008, 7, 1),\n",
       " datetime.date(2009, 1, 1),\n",
       " datetime.date(2009, 7, 1),\n",
       " datetime.date(2010, 1, 1),\n",
       " datetime.date(2010, 7, 1),\n",
       " datetime.date(2011, 1, 1),\n",
       " datetime.date(2011, 7, 1),\n",
       " datetime.date(2012, 1, 1),\n",
       " datetime.date(2012, 7, 1),\n",
       " datetime.date(2013, 1, 1),\n",
       " datetime.date(2013, 7, 1),\n",
       " datetime.date(2014, 1, 1)]"
      ]
     },
     "execution_count": 31,
     "metadata": {},
     "output_type": "execute_result"
    }
   ],
   "source": [
    "# Teste de fluxo com frequencia = 'semestral'\n",
    "frequencia = 'semestral'\n",
    "resposta = constroi_fluxo(dt_fim, frequencia)\n",
    "print('Datas dos fluxos com frequência semestral:')\n",
    "resposta"
   ]
  },
  {
   "cell_type": "code",
   "execution_count": 32,
   "id": "5f8c98d6",
   "metadata": {},
   "outputs": [],
   "source": [
    "# # Teste de fluxo com frequencia = 'trimestral'\n",
    "# frequencia = 'trimestral'\n",
    "# resposta = constroi_fluxo(dt_fim, frequencia)\n",
    "# print('Datas dos fluxos com frequência trimestral:')\n",
    "# resposta"
   ]
  },
  {
   "cell_type": "code",
   "execution_count": 33,
   "id": "b793b37f",
   "metadata": {},
   "outputs": [],
   "source": [
    "# # Teste de fluxo com frequencia = 'mensal'\n",
    "# frequencia = 'mensal'\n",
    "# resposta = constroi_fluxo(dt_fim, frequencia)\n",
    "# print('Datas dos fluxos com frequência mensal:')\n",
    "# resposta"
   ]
  },
  {
   "cell_type": "markdown",
   "id": "af7c5761",
   "metadata": {},
   "source": [
    "### 3.3 Valor Futuro"
   ]
  },
  {
   "cell_type": "code",
   "execution_count": 34,
   "id": "fcd3abe8",
   "metadata": {},
   "outputs": [],
   "source": [
    "def valor_futuro(taxa_anual, frequencia, VN, lista_fluxo):\n",
    "    \n",
    "    if frequencia == 'anual':\n",
    "        freq = 1\n",
    "    elif frequencia == 'semestral':\n",
    "        freq = 1/2\n",
    "    elif frequencia == 'trimestral':\n",
    "        freq = 1/4\n",
    "    elif frequencia == 'mensal':\n",
    "        freq = 1/12\n",
    "        \n",
    "    cupom = round((1 + taxa_anual)**(freq) - 1, 8)    \n",
    "    \n",
    "    lista_VF = []\n",
    "    for data_pagamento in lista_fluxo:            \n",
    "        if data_pagamento < lista_fluxo[-1]:\n",
    "            VF = round(VN * cupom, 5)\n",
    "            lista_VF.append(VF)\n",
    "        elif data_pagamento == lista_fluxo[-1]:\n",
    "            VF = round(VN * (1 + cupom), 5)\n",
    "            lista_VF.append(VF)\n",
    "    \n",
    "    return lista_VF"
   ]
  },
  {
   "cell_type": "code",
   "execution_count": 35,
   "id": "f2819218",
   "metadata": {},
   "outputs": [
    {
     "name": "stdout",
     "output_type": "stream",
     "text": [
      "Valor Futuro: [48.80885, 48.80885, 48.80885, 48.80885, 48.80885, 48.80885, 48.80885, 48.80885, 48.80885, 48.80885, 48.80885, 1048.80885]\n"
     ]
    }
   ],
   "source": [
    "# Teste de VF\n",
    "taxa_anual = 10/100\n",
    "frequencia = 'semestral'\n",
    "VN = 1000\n",
    "lista_fluxo = constroi_fluxo(dt_fim, frequencia)\n",
    "\n",
    "resposta = valor_futuro(taxa_anual, frequencia, VN, lista_fluxo)\n",
    "print(f'Valor Futuro: {resposta}')"
   ]
  },
  {
   "cell_type": "markdown",
   "id": "ab4d5009",
   "metadata": {},
   "source": [
    "### 3.4 Fator de desconto"
   ]
  },
  {
   "cell_type": "code",
   "execution_count": 36,
   "id": "ef346d65",
   "metadata": {},
   "outputs": [],
   "source": [
    "def fator_desconto(taxa_anual, lista_fluxo):\n",
    "\n",
    "    lista_ft_desc = []\n",
    "    for data_pagamento in lista_fluxo:\n",
    "        DU = calcula_prazo_dias(dt_ini, data_pagamento.strftime('%d/%m/%Y'), feriados, tipo)\n",
    "        fator_desconto = round((1 + taxa_anual)**((DU)/252), 9)\n",
    "        lista_ft_desc.append(fator_desconto)\n",
    "\n",
    "    return lista_ft_desc"
   ]
  },
  {
   "cell_type": "code",
   "execution_count": 37,
   "id": "60c0ea30",
   "metadata": {},
   "outputs": [
    {
     "name": "stdout",
     "output_type": "stream",
     "text": [
      "Fator de desconto: [1.014328499, 1.084141028, 1.153471703, 1.230983131, 1.310369969, 1.398424705, 1.489366507, 1.588642125, 1.692813972, 1.80473342, 1.921121758, 2.052302516]\n"
     ]
    }
   ],
   "source": [
    "# Teste de fator de desconto\n",
    "taxa_anual = 13.66/100\n",
    "lista_fluxo = constroi_fluxo(dt_fim, frequencia)\n",
    "\n",
    "resposta = fator_desconto(taxa_anual, lista_fluxo)\n",
    "print(f'Fator de desconto: {resposta}')"
   ]
  },
  {
   "cell_type": "markdown",
   "id": "e9826442",
   "metadata": {},
   "source": [
    "### 3.5 Preço Unitário"
   ]
  },
  {
   "cell_type": "code",
   "execution_count": 38,
   "id": "93d09355",
   "metadata": {},
   "outputs": [],
   "source": [
    "def calcula_pu(VF, prazo_anual, taxa_anual): \n",
    "    \n",
    "    cupom = round((1 + (10/100))**(0.5) - 1, 8)\n",
    "\n",
    "    Cs = round(VF * cupom, 5)\n",
    "\n",
    "    if dt.datetime.strptime(dt_pgto, \"%d/%m/%Y\").date() == constroi_fluxo(dt_fim, frequencia)[-1]:\n",
    "        PU = (Cs + VF) / (1 + taxa_anual)**prazo_anual\n",
    "    else:\n",
    "        PU = Cs / (1 + taxa_anual)**prazo_anual\n",
    "\n",
    "    return round(PU, 9)"
   ]
  },
  {
   "cell_type": "code",
   "execution_count": 39,
   "id": "38c13c62",
   "metadata": {},
   "outputs": [
    {
     "name": "stdout",
     "output_type": "stream",
     "text": [
      "PU: 48.119371611\n"
     ]
    }
   ],
   "source": [
    "# Teste de PU (1ª data do fluxo)\n",
    "dt_pgto = '01/07/2008'\n",
    "\n",
    "VF = 1000 # Valor de Face = Valor Nominal\n",
    "prazo_anual = calcula_prazo(dt_ini, dt_pgto, feriados, convencao='DU/252')\n",
    "\n",
    "taxa_anual = 13.66/100\n",
    "\n",
    "resposta = calcula_pu(VF, prazo_anual, taxa_anual)\n",
    "print(f'PU: {resposta}')"
   ]
  },
  {
   "cell_type": "code",
   "execution_count": 40,
   "id": "366900ea",
   "metadata": {},
   "outputs": [
    {
     "name": "stdout",
     "output_type": "stream",
     "text": [
      "PU: 511.040083815\n"
     ]
    }
   ],
   "source": [
    "# Teste de PU (última data do fluxo)\n",
    "dt_pgto = '01/01/2014'\n",
    "\n",
    "VF = 1000 # Valor de Face = Valor Nominal\n",
    "prazo_anual = calcula_prazo(dt_ini, dt_pgto, feriados, convencao='DU/252')\n",
    "\n",
    "taxa_anual = 13.66/100\n",
    "\n",
    "resposta = calcula_pu(VF, prazo_anual, taxa_anual)\n",
    "print(f'PU: {resposta}')"
   ]
  },
  {
   "cell_type": "markdown",
   "id": "5da3da71",
   "metadata": {},
   "source": [
    "### 3.6 Taxa Anual"
   ]
  },
  {
   "cell_type": "code",
   "execution_count": 41,
   "id": "ea2a8841",
   "metadata": {},
   "outputs": [],
   "source": [
    "def calcula_taxa_anual(PU, prazo_anual, valor_base=100):\n",
    "    \n",
    "    cupom = round((1 + (10/100))**(0.5) - 1, 8)\n",
    "\n",
    "    Cs = round(VF * cupom, 5)\n",
    "    \n",
    "    taxa_anual = ((Cs / PU)**(1/prazo_anual) - 1)\n",
    "    \n",
    "    return round(taxa_anual*valor_base, 4)"
   ]
  },
  {
   "cell_type": "code",
   "execution_count": 42,
   "id": "2d845cd8",
   "metadata": {},
   "outputs": [
    {
     "name": "stdout",
     "output_type": "stream",
     "text": [
      "Taxa anual: 13.66\n"
     ]
    }
   ],
   "source": [
    "# Teste de taxa anual\n",
    "dt_fim = '01/07/2008'\n",
    "\n",
    "prazo_anual = calcula_prazo(dt_ini, dt_fim, feriados, convencao='DU/252')\n",
    "PU = calcula_pu(VF, prazo_anual, taxa_anual)\n",
    "\n",
    "resposta = calcula_taxa_anual(PU, prazo_anual, valor_base=100)\n",
    "print(f'Taxa anual: {resposta}')"
   ]
  },
  {
   "cell_type": "code",
   "execution_count": 43,
   "id": "97015ab6",
   "metadata": {},
   "outputs": [
    {
     "name": "stdout",
     "output_type": "stream",
     "text": [
      "Taxa anual: 13.66\n"
     ]
    }
   ],
   "source": [
    "# Teste de taxa anual\n",
    "dt_fim = '31/12/2013'\n",
    "\n",
    "prazo_anual = calcula_prazo(dt_ini, dt_fim, feriados, convencao='DU/252')\n",
    "PU = calcula_pu(VF, prazo_anual, taxa_anual)\n",
    "\n",
    "resposta = calcula_taxa_anual(PU, prazo_anual, valor_base=100)\n",
    "print(f'Taxa anual: {resposta}')"
   ]
  },
  {
   "cell_type": "markdown",
   "id": "4ce23f43",
   "metadata": {},
   "source": [
    "### 3.7 Tabela Cash Flow"
   ]
  },
  {
   "cell_type": "code",
   "execution_count": 44,
   "id": "408c8ada",
   "metadata": {},
   "outputs": [],
   "source": [
    "def calcula_pu_ntnf(dt_venc, dt_base, tir):\n",
    "    \n",
    "    df_cashflow = pd.DataFrame(columns=['Data do fluxo', 'VF', 'DU', 'Fator de desconto', 'PU'])\n",
    "    \n",
    "    df_cashflow['Data do fluxo'] = constroi_fluxo(dt_venc, frequencia)\n",
    "    df_cashflow['VF'] = valor_futuro(10/100, frequencia, VN, lista_fluxo)\n",
    "    df_cashflow['Fator de desconto'] = fator_desconto(taxa_anual, lista_fluxo)\n",
    "    \n",
    "    lista_DU = []\n",
    "    for data_pagamento in constroi_fluxo(dt_venc, frequencia):\n",
    "        DU = calcula_prazo_dias(dt_base, data_pagamento.strftime('%d/%m/%Y'), feriados, tipo='DU')\n",
    "        lista_DU.append(DU)\n",
    "\n",
    "    lista_PU = list(zip(valor_futuro(10/100, frequencia, VN, lista_fluxo), fator_desconto(taxa_anual, lista_fluxo)))\n",
    "    for i in range(len(lista_PU)):\n",
    "        lista_PU[i] = lista_PU[i][0] / lista_PU[i][1]\n",
    "    \n",
    "    df_cashflow['DU'] = lista_DU\n",
    "    df_cashflow['PU'] = lista_PU\n",
    "    \n",
    "    print(df_cashflow)\n",
    "    \n",
    "    PU = str(sum(lista_PU))\n",
    "    \n",
    "    PU = float(PU[:PU.find('.')+7]) # Truncar com 6 casas decimais\n",
    "    \n",
    "    return PU"
   ]
  },
  {
   "cell_type": "code",
   "execution_count": 45,
   "id": "8674183f",
   "metadata": {},
   "outputs": [
    {
     "name": "stdout",
     "output_type": "stream",
     "text": [
      "   Data do fluxo          VF    DU  Fator de desconto          PU\n",
      "0     2008-07-01    48.80885    28           1.014328   48.119372\n",
      "1     2009-01-01    48.80885   159           1.084141   45.020757\n",
      "2     2009-07-01    48.80885   281           1.153472   42.314735\n",
      "3     2010-01-01    48.80885   409           1.230983   39.650300\n",
      "4     2010-07-01    48.80885   532           1.310370   37.248145\n",
      "5     2011-01-01    48.80885   660           1.398425   34.902737\n",
      "6     2011-07-01    48.80885   784           1.489367   32.771551\n",
      "7     2012-01-01    48.80885   911           1.588642   30.723628\n",
      "8     2012-07-01    48.80885  1036           1.692814   28.832967\n",
      "9     2013-01-01    48.80885  1162           1.804733   27.044908\n",
      "10    2013-07-01    48.80885  1285           1.921122   25.406432\n",
      "11    2014-01-01  1048.80885  1415           2.052303  511.040084\n"
     ]
    },
    {
     "data": {
      "text/plain": [
       "903.075616"
      ]
     },
     "execution_count": 45,
     "metadata": {},
     "output_type": "execute_result"
    }
   ],
   "source": [
    "# Teste 1\n",
    "dt_base = '20/05/2008'\n",
    "dt_venc = '01/01/2014'\n",
    "tir = 13.66/100\n",
    "\n",
    "resposta = calcula_pu_ntnf(dt_venc, dt_base, tir)\n",
    "resposta"
   ]
  },
  {
   "cell_type": "markdown",
   "id": "74455a84",
   "metadata": {},
   "source": [
    "__Teste 1__: NTN-F de 20/05/2008 a 01/01/2014, com TIR = 13,66%.   \n",
    "\n",
    "https://sisweb.tesouro.gov.br/apex/f?p=2501:9::::9:P9_ID_PUBLICACAO:26310"
   ]
  },
  {
   "attachments": {
    "teste_1_ntn-f.png": {
     "image/png": "[encoded data removed]"
    }
   },
   "cell_type": "markdown",
   "id": "93a21e6a",
   "metadata": {},
   "source": [
    "![teste_1_ntn-f.png](attachment:teste_1_ntn-f.png)"
   ]
  },
  {
   "cell_type": "markdown",
   "id": "57426362",
   "metadata": {},
   "source": [
    "__Teste 2__: NTN-F de hoje (18/02/2022) a 01/01/2031, com TIR = 11,48%.   \n",
    "\n",
    "https://www.tesourodireto.com.br/titulos/precos-e-taxas.htm"
   ]
  },
  {
   "cell_type": "code",
   "execution_count": 46,
   "id": "64df6d2c",
   "metadata": {},
   "outputs": [],
   "source": [
    "# Definindo as datas e feriados para o \"Teste 2\"\n",
    "# dt_ini = dt.date.today().strftime('%d/%m/%Y')\n",
    "dt_ini = '18/02/2022'\n",
    "dt_fim = '01/01/2031'\n",
    "feriados = pd.read_excel('https://www.anbima.com.br/feriados/arqs/feriados_nacionais.xls')"
   ]
  },
  {
   "cell_type": "code",
   "execution_count": 47,
   "id": "7256455e",
   "metadata": {},
   "outputs": [
    {
     "name": "stdout",
     "output_type": "stream",
     "text": [
      "Prazo anualizado (dias corridos): 8.98888888888889\n"
     ]
    }
   ],
   "source": [
    "# Teste de prazo anualizado \"DC/360\"\n",
    "convencao = 'DC/360'\n",
    "resposta = calcula_prazo(dt_ini, dt_fim, feriados, convencao)\n",
    "print(f'Prazo anualizado (dias corridos): {resposta}')"
   ]
  },
  {
   "cell_type": "code",
   "execution_count": 48,
   "id": "f3aab18f",
   "metadata": {},
   "outputs": [
    {
     "name": "stdout",
     "output_type": "stream",
     "text": [
      "Prazo anualizado (dias úteis): 8.82936507936508\n"
     ]
    }
   ],
   "source": [
    "# Teste de prazo anualizado \"DU/252\"\n",
    "convencao = 'DU/252'\n",
    "resposta = calcula_prazo(dt_ini, dt_fim, feriados, convencao)\n",
    "print(f'Prazo anualizado (dias úteis): {resposta}')"
   ]
  },
  {
   "cell_type": "code",
   "execution_count": 49,
   "id": "56f3a5cc",
   "metadata": {},
   "outputs": [
    {
     "name": "stdout",
     "output_type": "stream",
     "text": [
      "Prazo em dias corridos: 3236\n"
     ]
    }
   ],
   "source": [
    "# Teste de prazo em dias \"DC\"\n",
    "tipo = 'DC'\n",
    "resposta = calcula_prazo_dias(dt_ini, dt_fim, feriados, tipo)\n",
    "print(f'Prazo em dias corridos: {resposta}')"
   ]
  },
  {
   "cell_type": "code",
   "execution_count": 50,
   "id": "f60a747c",
   "metadata": {},
   "outputs": [
    {
     "name": "stdout",
     "output_type": "stream",
     "text": [
      "Prazo em dias úteis: 2225\n"
     ]
    }
   ],
   "source": [
    "# Teste de prazo em dias \"DU\"\n",
    "tipo = 'DU'\n",
    "resposta = calcula_prazo_dias(dt_ini, dt_fim, feriados, tipo)\n",
    "print(f'Prazo em dias úteis: {resposta}')"
   ]
  },
  {
   "cell_type": "code",
   "execution_count": 51,
   "id": "3e72432e",
   "metadata": {},
   "outputs": [],
   "source": [
    "def constroi_fluxo(dt_fim, frequencia):\n",
    "\n",
    "    # Convertendo a data de string para date\n",
    "    dt_fim = dt.datetime.strptime(dt_fim, \"%d/%m/%Y\").date()\n",
    "    \n",
    "    # Definindo a data de compra\n",
    "#     dt_hoje = dt.date.today()\n",
    "    dt_hoje = '18/02/2022'\n",
    "    dt_hoje = dt.datetime.strptime(dt_hoje, \"%d/%m/%Y\").date()\n",
    "    \n",
    "    # Criando um laço para pegar as datas de pagamento dos cupons, partindo de \"dt_fim\" até chegar em \"dt_hoje\"\n",
    "    dt_subtrai_fim = dt_fim\n",
    "    lista_de_datas_dos_fluxos = []\n",
    "    \n",
    "    if frequencia == 'anual':\n",
    "        freq = relativedelta(years=+1)\n",
    "    elif frequencia == 'semestral':\n",
    "        freq = relativedelta(months=+6)\n",
    "    elif frequencia == 'trimestral':\n",
    "        freq = relativedelta(months=+3)\n",
    "    elif frequencia == 'mensal':\n",
    "        freq = relativedelta(months=+1)\n",
    "    \n",
    "    while dt_subtrai_fim > dt_hoje:\n",
    "        lista_de_datas_dos_fluxos.append(dt_subtrai_fim)\n",
    "        dt_subtrai_fim -= freq\n",
    "        \n",
    "    # Ordenando a lista com as datas dos fluxos\n",
    "    lista_de_datas_dos_fluxos.sort()\n",
    "    \n",
    "    return lista_de_datas_dos_fluxos"
   ]
  },
  {
   "cell_type": "code",
   "execution_count": 52,
   "id": "1fd70908",
   "metadata": {},
   "outputs": [
    {
     "name": "stdout",
     "output_type": "stream",
     "text": [
      "Datas dos fluxos com frequência semestral:\n"
     ]
    },
    {
     "data": {
      "text/plain": [
       "[datetime.date(2022, 7, 1),\n",
       " datetime.date(2023, 1, 1),\n",
       " datetime.date(2023, 7, 1),\n",
       " datetime.date(2024, 1, 1),\n",
       " datetime.date(2024, 7, 1),\n",
       " datetime.date(2025, 1, 1),\n",
       " datetime.date(2025, 7, 1),\n",
       " datetime.date(2026, 1, 1),\n",
       " datetime.date(2026, 7, 1),\n",
       " datetime.date(2027, 1, 1),\n",
       " datetime.date(2027, 7, 1),\n",
       " datetime.date(2028, 1, 1),\n",
       " datetime.date(2028, 7, 1),\n",
       " datetime.date(2029, 1, 1),\n",
       " datetime.date(2029, 7, 1),\n",
       " datetime.date(2030, 1, 1),\n",
       " datetime.date(2030, 7, 1),\n",
       " datetime.date(2031, 1, 1)]"
      ]
     },
     "execution_count": 52,
     "metadata": {},
     "output_type": "execute_result"
    }
   ],
   "source": [
    "# Teste de fluxo com frequencia = 'semestral'\n",
    "frequencia = 'semestral'\n",
    "resposta = constroi_fluxo(dt_fim, frequencia)\n",
    "print('Datas dos fluxos com frequência semestral:')\n",
    "resposta"
   ]
  },
  {
   "cell_type": "code",
   "execution_count": 53,
   "id": "4fda101f",
   "metadata": {},
   "outputs": [
    {
     "name": "stdout",
     "output_type": "stream",
     "text": [
      "Valor Futuro: [48.80885, 48.80885, 48.80885, 48.80885, 48.80885, 48.80885, 48.80885, 48.80885, 48.80885, 48.80885, 48.80885, 48.80885, 48.80885, 48.80885, 48.80885, 48.80885, 48.80885, 1048.80885]\n"
     ]
    }
   ],
   "source": [
    "# Teste de VF\n",
    "taxa_anual = 10/100\n",
    "frequencia = 'semestral'\n",
    "VN = 1000\n",
    "lista_fluxo = constroi_fluxo(dt_fim, frequencia)\n",
    "\n",
    "resposta = valor_futuro(taxa_anual, frequencia, VN, lista_fluxo)\n",
    "print(f'Valor Futuro: {resposta}')"
   ]
  },
  {
   "cell_type": "code",
   "execution_count": 54,
   "id": "821cf2e9",
   "metadata": {},
   "outputs": [
    {
     "name": "stdout",
     "output_type": "stream",
     "text": [
      "Fator de desconto: [1.039127331, 1.097626383, 1.157919688, 1.222051838, 1.289179912, 1.363518918, 1.437177766, 1.520706553, 1.602856856, 1.693822113, 1.786094404, 1.887458749, 1.991138041, 2.101418544, 2.216850781, 2.340641718, 2.468150015, 2.610472911]\n"
     ]
    }
   ],
   "source": [
    "# Teste de fator de desconto\n",
    "taxa_anual = 11.48/100\n",
    "lista_fluxo = constroi_fluxo(dt_fim, frequencia)\n",
    "\n",
    "resposta = fator_desconto(taxa_anual, lista_fluxo)\n",
    "print(f'Fator de desconto: {resposta}')"
   ]
  },
  {
   "cell_type": "code",
   "execution_count": 55,
   "id": "92512173",
   "metadata": {},
   "outputs": [
    {
     "name": "stdout",
     "output_type": "stream",
     "text": [
      "PU: 46.971000141\n"
     ]
    }
   ],
   "source": [
    "# Teste de PU (1ª data do fluxo)\n",
    "dt_pgto = '01/07/2022'\n",
    "\n",
    "VF = 1000 # Valor de Face = Valor Nominal\n",
    "prazo_anual = calcula_prazo(dt_ini, dt_pgto, feriados, convencao='DU/252')\n",
    "\n",
    "taxa_anual = 11.48/100\n",
    "\n",
    "resposta = calcula_pu(VF, prazo_anual, taxa_anual)\n",
    "print(f'PU: {resposta}')"
   ]
  },
  {
   "cell_type": "code",
   "execution_count": 56,
   "id": "2dc21cf4",
   "metadata": {},
   "outputs": [
    {
     "name": "stdout",
     "output_type": "stream",
     "text": [
      "PU: 401.769673865\n"
     ]
    }
   ],
   "source": [
    "# Teste de PU (última data do fluxo)\n",
    "dt_pgto = '01/01/2031'\n",
    "\n",
    "VF = 1000 # Valor de Face = Valor Nominal\n",
    "prazo_anual = calcula_prazo(dt_ini, dt_pgto, feriados, convencao='DU/252')\n",
    "\n",
    "taxa_anual = 11.48/100\n",
    "\n",
    "resposta = calcula_pu(VF, prazo_anual, taxa_anual)\n",
    "print(f'PU: {resposta}')"
   ]
  },
  {
   "cell_type": "code",
   "execution_count": 57,
   "id": "6db00c2b",
   "metadata": {},
   "outputs": [
    {
     "name": "stdout",
     "output_type": "stream",
     "text": [
      "Taxa anual: 11.48\n"
     ]
    }
   ],
   "source": [
    "# Teste de taxa anual\n",
    "dt_fim = '01/07/2022'\n",
    "\n",
    "prazo_anual = calcula_prazo(dt_ini, dt_fim, feriados, convencao='DU/252')\n",
    "PU = calcula_pu(VF, prazo_anual, taxa_anual)\n",
    "\n",
    "resposta = calcula_taxa_anual(PU, prazo_anual, valor_base=100)\n",
    "print(f'Taxa anual: {resposta}')"
   ]
  },
  {
   "cell_type": "code",
   "execution_count": 58,
   "id": "09271edd",
   "metadata": {},
   "outputs": [
    {
     "name": "stdout",
     "output_type": "stream",
     "text": [
      "Taxa anual: 11.48\n"
     ]
    }
   ],
   "source": [
    "# Teste de taxa anual\n",
    "dt_fim = '31/12/2030'\n",
    "\n",
    "prazo_anual = calcula_prazo(dt_ini, dt_fim, feriados, convencao='DU/252')\n",
    "PU = calcula_pu(VF, prazo_anual, taxa_anual)\n",
    "\n",
    "resposta = calcula_taxa_anual(PU, prazo_anual, valor_base=100)\n",
    "print(f'Taxa anual: {resposta}')"
   ]
  },
  {
   "cell_type": "code",
   "execution_count": 59,
   "id": "78dcee3b",
   "metadata": {},
   "outputs": [
    {
     "name": "stdout",
     "output_type": "stream",
     "text": [
      "   Data do fluxo          VF    DU  Fator de desconto          PU\n",
      "0     2022-07-01    48.80885    89           1.039127   46.971000\n",
      "1     2023-01-01    48.80885   216           1.097626   44.467636\n",
      "2     2023-07-01    48.80885   340           1.157920   42.152189\n",
      "3     2024-01-01    48.80885   465           1.222052   39.940081\n",
      "4     2024-07-01    48.80885   589           1.289180   37.860387\n",
      "5     2025-01-01    48.80885   719           1.363519   35.796240\n",
      "6     2025-07-01    48.80885   841           1.437178   33.961596\n",
      "7     2026-01-01    48.80885   972           1.520707   32.096166\n",
      "8     2026-07-01    48.80885  1094           1.602857   30.451160\n",
      "9     2027-01-01    48.80885  1222           1.693822   28.815806\n",
      "10    2027-07-01    48.80885  1345           1.786094   27.327139\n",
      "11    2028-01-01    48.80885  1473           1.887459   25.859559\n",
      "12    2028-07-01    48.80885  1597           1.991138   24.513042\n",
      "13    2029-01-01    48.80885  1722           2.101419   23.226620\n",
      "14    2029-07-01    48.80885  1846           2.216851   22.017201\n",
      "15    2030-01-01    48.80885  1972           2.340642   20.852764\n",
      "16    2030-07-01    48.80885  2095           2.468150   19.775479\n",
      "17    2031-01-01  1048.80885  2225           2.610473  401.769674\n"
     ]
    },
    {
     "data": {
      "text/plain": [
       "937.853738"
      ]
     },
     "execution_count": 59,
     "metadata": {},
     "output_type": "execute_result"
    }
   ],
   "source": [
    "# Teste 2\n",
    "# dt_base = dt.date.today().strftime('%d/%m/%Y')\n",
    "dt_base = '18/02/2022'\n",
    "dt_venc = '01/01/2031'\n",
    "tir = 11.48/100\n",
    "\n",
    "resposta = calcula_pu_ntnf(dt_venc, dt_base, tir)\n",
    "resposta"
   ]
  },
  {
   "attachments": {
    "teste_2_ntn-f-3.png": {
     "image/png": "[encoded data removed]"
    }
   },
   "cell_type": "markdown",
   "id": "db64201d",
   "metadata": {},
   "source": [
    "![teste_2_ntn-f-3.png](attachment:teste_2_ntn-f-3.png)"
   ]
  },
  {
   "cell_type": "code",
   "execution_count": null,
   "id": "f666bae9",
   "metadata": {},
   "outputs": [],
   "source": []
  }
 ],
 "metadata": {
  "kernelspec": {
   "display_name": "Python 3 (ipykernel)",
   "language": "python",
   "name": "python3"
  },
  "language_info": {
   "codemirror_mode": {
    "name": "ipython",
    "version": 3
   },
   "file_extension": ".py",
   "mimetype": "text/x-python",
   "name": "python",
   "nbconvert_exporter": "python",
   "pygments_lexer": "ipython3",
   "version": "3.9.12"
  }
 },
 "nbformat": 4,
 "nbformat_minor": 5
}
