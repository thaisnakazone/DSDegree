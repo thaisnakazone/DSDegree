{
 "cells": [
  {
   "cell_type": "markdown",
   "metadata": {},
   "source": [
    "# Olá, mundo!"
   ]
  },
  {
   "cell_type": "code",
   "execution_count": 1,
   "metadata": {},
   "outputs": [
    {
     "name": "stdout",
     "output_type": "stream",
     "text": [
      "Olá, mundo!\n"
     ]
    }
   ],
   "source": [
    "print('Olá, mundo!')"
   ]
  },
  {
   "cell_type": "markdown",
   "metadata": {},
   "source": [
    "# Convertendo temperatura (Celsius/Fahrenheit)"
   ]
  },
  {
   "cell_type": "code",
   "execution_count": 2,
   "metadata": {},
   "outputs": [
    {
     "name": "stdout",
     "output_type": "stream",
     "text": [
      "Digite uma temperatura em graus Celsius: 40\n",
      "A temperatura em graus Fahrenheit é: 104.0\n"
     ]
    }
   ],
   "source": [
    "c = float(input('Digite uma temperatura em graus Celsius: '))\n",
    "f = (c * 9 / 5) + 32\n",
    "print('A temperatura em graus Fahrenheit é:', f)"
   ]
  },
  {
   "cell_type": "markdown",
   "metadata": {},
   "source": [
    "# Calculando IMC"
   ]
  },
  {
   "cell_type": "code",
   "execution_count": 3,
   "metadata": {},
   "outputs": [
    {
     "name": "stdout",
     "output_type": "stream",
     "text": [
      "Digite o seu peso: 51\n",
      "Digite a sua altura: 1.58\n",
      "IMC: 20.429418362441915\n"
     ]
    }
   ],
   "source": [
    "peso = float(input('Digite o seu peso: '))\n",
    "altura = float(input('Digite a sua altura: '))\n",
    "imc = peso / altura ** 2\n",
    "print('IMC:',imc)"
   ]
  },
  {
   "cell_type": "markdown",
   "metadata": {},
   "source": [
    "# Posição de um projétil"
   ]
  },
  {
   "cell_type": "code",
   "execution_count": 17,
   "metadata": {},
   "outputs": [
    {
     "name": "stdout",
     "output_type": "stream",
     "text": [
      "Digite uma velocidade inicial (em m/s): 40\n",
      "Digite uma posição inicial (em m): 0\n",
      "Digite um instante de tempo (em s): 4\n",
      "A posição de um projétil nesse instante de tempo é: 80.0 m\n"
     ]
    }
   ],
   "source": [
    "veloc_inicial = float(input('Digite uma velocidade inicial (em m/s): '))\n",
    "posicao_inicial = float(input('Digite uma posição inicial (em m): '))\n",
    "inst_tempo = float(input('Digite um instante de tempo (em s): '))\n",
    "\n",
    "posicao_final = posicao_inicial + (veloc_inicial * inst_tempo) + (-10 * (inst_tempo ** 2) / 2)\n",
    "\n",
    "print('A posição de um projétil nesse instante de tempo é:',posicao_final,'m')"
   ]
  },
  {
   "cell_type": "markdown",
   "metadata": {},
   "source": [
    "# Datetime"
   ]
  },
  {
   "cell_type": "code",
   "execution_count": 18,
   "metadata": {},
   "outputs": [
    {
     "name": "stdout",
     "output_type": "stream",
     "text": [
      "Data e hora local: 21/09/2021 22:49\n"
     ]
    }
   ],
   "source": [
    "from datetime import datetime\n",
    "print('Data e hora local:',datetime.now().strftime('%d/%m/%Y %H:%M'))"
   ]
  },
  {
   "cell_type": "markdown",
   "metadata": {},
   "source": [
    "# Fatorial"
   ]
  },
  {
   "cell_type": "code",
   "execution_count": 19,
   "metadata": {},
   "outputs": [
    {
     "name": "stdout",
     "output_type": "stream",
     "text": [
      "Digite o valor de n (número inteiro maior ou igual a zero): 5\n",
      "O fatorial de n é: 120\n"
     ]
    }
   ],
   "source": [
    "n = int(input(\"Digite o valor de n (número inteiro maior ou igual a zero): \"))\n",
    "\n",
    "while n < 0:\n",
    "    n = int(input(\"Digite um número inteiro maior ou igual a zero: \"))\n",
    "\n",
    "contador = 1\n",
    "n_fatorial = 1\n",
    "\n",
    "while contador <= n:\n",
    "    n_fatorial = n_fatorial * contador\n",
    "    contador = contador + 1\n",
    "print('O fatorial de n é:',n_fatorial)"
   ]
  },
  {
   "cell_type": "markdown",
   "metadata": {},
   "source": [
    "# Imprimindo tabuada"
   ]
  },
  {
   "cell_type": "code",
   "execution_count": 20,
   "metadata": {},
   "outputs": [
    {
     "name": "stdout",
     "output_type": "stream",
     "text": [
      "9 x 1 = 9\n",
      "9 x 2 = 18\n",
      "9 x 3 = 27\n",
      "9 x 4 = 36\n",
      "9 x 5 = 45\n",
      "9 x 6 = 54\n",
      "9 x 7 = 63\n",
      "9 x 8 = 72\n",
      "9 x 9 = 81\n",
      "9 x 10 = 90\n"
     ]
    }
   ],
   "source": [
    "tab = 9\n",
    "cont = 1\n",
    "while cont <= 10:\n",
    "    print(tab,\"x\",cont,\"=\",tab*cont)\n",
    "    cont = cont + 1"
   ]
  },
  {
   "cell_type": "markdown",
   "metadata": {},
   "source": [
    "# Divisores de um número inteiro"
   ]
  },
  {
   "cell_type": "code",
   "execution_count": 25,
   "metadata": {},
   "outputs": [
    {
     "name": "stdout",
     "output_type": "stream",
     "text": [
      "Digite um número inteiro maior do que 1: 10\n",
      "Divisor: 1\n",
      "Divisor: 2\n",
      "Divisor: 5\n",
      "Divisor: 10\n",
      "Total de divisores: 4\n"
     ]
    }
   ],
   "source": [
    "n = int(input(\"Digite um número inteiro maior do que 1: \"))\n",
    "\n",
    "while n <= 1:\n",
    "    n = int(input(\"Digite um número inteiro maior do que 1: \"))\n",
    "\n",
    "divisor = 1\n",
    "total_divisores = 0\n",
    "\n",
    "while divisor <= n:\n",
    "    if n % divisor == 0:\n",
    "        print('Divisor:',divisor)\n",
    "        total_divisores = total_divisores + 1\n",
    "    divisor = divisor + 1\n",
    "print('Total de divisores:',total_divisores)"
   ]
  },
  {
   "cell_type": "markdown",
   "metadata": {},
   "source": [
    "# Operações matemáticas entre listas"
   ]
  },
  {
   "cell_type": "code",
   "execution_count": 26,
   "metadata": {},
   "outputs": [
    {
     "name": "stdout",
     "output_type": "stream",
     "text": [
      "[7, 9, 11, 13, 15]\n"
     ]
    }
   ],
   "source": [
    "lista1 = [1, 2, 3, 4, 5]\n",
    "lista2 = [6, 7, 8, 9, 10]\n",
    "lista3 = []\n",
    "i = 0\n",
    "\n",
    "for num in lista1:\n",
    "    num_lista3 = lista1[i] + lista2[i]\n",
    "    lista3.append(num_lista3)\n",
    "    i = i + 1\n",
    "print(lista3)"
   ]
  },
  {
   "cell_type": "markdown",
   "metadata": {},
   "source": [
    "# Produto escalar"
   ]
  },
  {
   "cell_type": "code",
   "execution_count": 27,
   "metadata": {},
   "outputs": [
    {
     "name": "stdout",
     "output_type": "stream",
     "text": [
      "O produto escalar é: 130\n"
     ]
    }
   ],
   "source": [
    "lista1 = [1, 2, 3, 4, 5]\n",
    "lista2 = [6, 7, 8, 9, 10]\n",
    "lista3 = []\n",
    "i = 0\n",
    "\n",
    "for num in lista1:\n",
    "    num_lista3 = lista1[i] * lista2[i]\n",
    "    lista3.append(num_lista3)\n",
    "    i = i + 1\n",
    "prod_escalar = sum(lista3)\n",
    "print('O produto escalar é:',prod_escalar)"
   ]
  },
  {
   "cell_type": "markdown",
   "metadata": {},
   "source": [
    "# Calculando média aritmética"
   ]
  },
  {
   "cell_type": "code",
   "execution_count": 28,
   "metadata": {},
   "outputs": [
    {
     "name": "stdout",
     "output_type": "stream",
     "text": [
      "Digite a 1ª nota: 7\n",
      "Digite a 2ª nota: 8\n",
      "Digite a 3ª nota: 9\n",
      "Digite a 4ª nota: 10\n",
      "Média: 8.5\n"
     ]
    }
   ],
   "source": [
    "nota = float(input('Digite a 1ª nota: '))\n",
    "lista = []\n",
    "lista.append(nota)\n",
    "cont = 1\n",
    "while len(lista) < 4:\n",
    "    nota = float(input('Digite a %dª nota: ' %(cont + 1)))\n",
    "    lista.append(nota)\n",
    "    cont = cont + 1\n",
    "media = sum(lista) / len(lista)\n",
    "print('Média:',media)"
   ]
  },
  {
   "cell_type": "markdown",
   "metadata": {},
   "source": [
    "# Verificando CPF"
   ]
  },
  {
   "cell_type": "code",
   "execution_count": 33,
   "metadata": {},
   "outputs": [
    {
     "name": "stdout",
     "output_type": "stream",
     "text": [
      "Digite o CPF (apenas números): 28625587887\n",
      "CPF válido.\n"
     ]
    }
   ],
   "source": [
    "cpf = input('Digite o CPF (apenas números): ')\n",
    "\n",
    "while len(cpf) != 11:\n",
    "    cpf = input('Digite o CPF (apenas números) com 11 dígitos: ')\n",
    "\n",
    "lista_cpf = list(map(int, cpf))\n",
    "# print('Lista com os dígitos do CPF:',lista_cpf)\n",
    "\n",
    "lista_10_2 = []\n",
    "for num in range(10,1,-1):\n",
    "    lista_10_2.append(num)\n",
    "# print('Lista de 10 a 2:',lista_10_2)\n",
    "\n",
    "lista_cpf_9dig = lista_cpf[:9]\n",
    "# print('Lista com os 9 primeiros dígitos do CPF:',lista_cpf_9dig)\n",
    "\n",
    "i = 0\n",
    "lista_prod_1 = []\n",
    "for dig in lista_cpf_9dig:\n",
    "    item_lista_prod_1 = lista_cpf_9dig[i] * lista_10_2[i]\n",
    "    lista_prod_1.append(item_lista_prod_1)\n",
    "    i = i + 1\n",
    "x = sum(lista_prod_1)\n",
    "# print('Valor de x:',x)\n",
    "\n",
    "lista_11_2 = []\n",
    "for num in range(11,1,-1):\n",
    "    lista_11_2.append(num)\n",
    "# print('Lista de 11 a 2:',lista_11_2)\n",
    "\n",
    "lista_cpf_10dig = lista_cpf[:10]\n",
    "# print('Lista com os 10 primeiros dígitos do CPF:',lista_cpf_10dig)\n",
    "\n",
    "# print('10º dígito do CPF:',lista_cpf[9])\n",
    "# print('11º dígito do CPF:',lista_cpf[10])\n",
    "\n",
    "# print(x * 10 % 11)\n",
    "\n",
    "if x * 10 % 11 >= 10:\n",
    "    y = 0\n",
    "    if y == lista_cpf[9]:\n",
    "        # print('x * 10 % 11 == 10º dígito do CPF? Resposta: sim.')\n",
    "        i = 0\n",
    "        lista_prod_2 = []\n",
    "        for dig in lista_cpf_10dig:\n",
    "            item_lista_prod_2 = lista_cpf_10dig[i] * lista_11_2[i]\n",
    "            lista_prod_2.append(item_lista_prod_2)\n",
    "            i = i + 1\n",
    "        x = sum(lista_prod_2)\n",
    "        # print('Novo valor de x:',x)\n",
    "    \n",
    "        if x * 10 % 11 >= 10:\n",
    "            y = 0\n",
    "            if y == lista_cpf[10]:\n",
    "                print('CPF válido.')\n",
    "        elif x * 10 % 11 == lista_cpf[10]:\n",
    "            print('CPF válido.')\n",
    "        else:\n",
    "            print('CPF inválido.')\n",
    "        \n",
    "elif x * 10 % 11 == lista_cpf[9]:\n",
    "    # print('x * 10 % 11 == 10º dígito do CPF? Resposta: sim.')\n",
    "    i = 0\n",
    "    lista_prod_2 = []\n",
    "    for dig in lista_cpf_10dig:\n",
    "        item_lista_prod_2 = lista_cpf_10dig[i] * lista_11_2[i]\n",
    "        lista_prod_2.append(item_lista_prod_2)\n",
    "        i = i + 1\n",
    "    x = sum(lista_prod_2)\n",
    "    # print('Novo valor de x:',x)\n",
    "    \n",
    "    if x * 10 % 11 >= 10:\n",
    "        y = 0\n",
    "        if y == lista_cpf[10]:\n",
    "            print('CPF válido.')\n",
    "    \n",
    "    elif x * 10 % 11 == lista_cpf[10]:\n",
    "        print('CPF válido.')\n",
    "    else:\n",
    "        print('CPF inválido.')\n",
    "else:\n",
    "    print('CPF inválido.')"
   ]
  },
  {
   "cell_type": "markdown",
   "metadata": {},
   "source": [
    "# String - upper/lower"
   ]
  },
  {
   "cell_type": "code",
   "execution_count": 34,
   "metadata": {},
   "outputs": [
    {
     "name": "stdout",
     "output_type": "stream",
     "text": [
      "Digite uma palavra: palavra\n",
      "PaLaVrA\n"
     ]
    }
   ],
   "source": [
    "palavra = input('Digite uma palavra: ')\n",
    "\n",
    "nova_string = ''\n",
    "i = 0\n",
    "\n",
    "for letra in palavra:\n",
    "    if i % 2 == 0:\n",
    "        nova_string = nova_string + palavra[i].upper()\n",
    "    else:\n",
    "        nova_string = nova_string + palavra[i].lower()\n",
    "    i = i + 1\n",
    "    \n",
    "print(nova_string)"
   ]
  },
  {
   "cell_type": "markdown",
   "metadata": {},
   "source": [
    "# String - replace"
   ]
  },
  {
   "cell_type": "code",
   "execution_count": 37,
   "metadata": {},
   "outputs": [
    {
     "name": "stdout",
     "output_type": "stream",
     "text": [
      "Digite uma palavra: Inteligencia\n",
      "1n73lig3nci4\n"
     ]
    }
   ],
   "source": [
    "palavra = input('Digite uma palavra: ')\n",
    "\n",
    "palavra = palavra.replace('a', '4')\n",
    "palavra = palavra.replace('e', '3')\n",
    "palavra = palavra.replace('I', '1')\n",
    "palavra = palavra.replace('t', '7')\n",
    "\n",
    "nova_string = ''\n",
    "\n",
    "for letra in palavra:\n",
    "    nova_string = nova_string + letra\n",
    "    \n",
    "print(nova_string)"
   ]
  },
  {
   "cell_type": "markdown",
   "metadata": {},
   "source": [
    "# String - reverse"
   ]
  },
  {
   "cell_type": "code",
   "execution_count": 38,
   "metadata": {},
   "outputs": [
    {
     "name": "stdout",
     "output_type": "stream",
     "text": [
      "Digite uma palavra: code\n",
      "edoc\n"
     ]
    }
   ],
   "source": [
    "palavra = input('Digite uma palavra: ')\n",
    "\n",
    "lista = list(palavra)\n",
    "lista_inv = lista[:]\n",
    "lista_inv.reverse()\n",
    "nova_palavra = ''.join(lista_inv)\n",
    "\n",
    "print(nova_palavra)"
   ]
  },
  {
   "cell_type": "markdown",
   "metadata": {},
   "source": [
    "# Extraindo letras, números, caracteres especiais de uma string"
   ]
  },
  {
   "cell_type": "code",
   "execution_count": 39,
   "metadata": {},
   "outputs": [
    {
     "name": "stdout",
     "output_type": "stream",
     "text": [
      "Digite algo que contenha tanto números quanto letras e caracteres especiais: sdfg3456@#$%\n",
      "Variável apenas com letras: sdfg\n",
      "Variável apenas com números: 3456\n"
     ]
    }
   ],
   "source": [
    "qq_coisa = input('Digite algo que contenha tanto números quanto letras e caracteres especiais: ')\n",
    "\n",
    "lista_letras = []\n",
    "lista_num = []\n",
    "# lista_spec = []\n",
    "\n",
    "for caract in qq_coisa:\n",
    "    if caract.isalpha():\n",
    "        lista_letras.append(caract)\n",
    "    elif caract.isnumeric():\n",
    "        lista_num.append(caract) \n",
    "    # elif (not caract.isalpha() and not caract.isnumeric()):\n",
    "        # lista_spec.append(caract)\n",
    "\n",
    "# print(lista_letras)\n",
    "# print(lista_num)\n",
    "# print(lista_spec)\n",
    "\n",
    "letras = ''.join(lista_letras)\n",
    "print('Variável apenas com letras:',letras)\n",
    "\n",
    "num = ''.join(lista_num)\n",
    "print('Variável apenas com números:',num)\n",
    "\n",
    "# spec = ''.join(lista_spec)\n",
    "# print('Variável com caracteres especiais:',spec)"
   ]
  },
  {
   "cell_type": "markdown",
   "metadata": {},
   "source": [
    "# Criptografando mensagem com alfabeto invertido"
   ]
  },
  {
   "cell_type": "code",
   "execution_count": 52,
   "metadata": {},
   "outputs": [
    {
     "name": "stdout",
     "output_type": "stream",
     "text": [
      "Digite uma mensagem: Girei a maçaneta e a porta não abriu\n",
      "Mensagem criptografada: Trivr z nzx̧zmvgz v z kligz mz̃l zyirf\n"
     ]
    }
   ],
   "source": [
    "import unicodedata\n",
    "import string\n",
    "\n",
    "mensagem = input('Digite uma mensagem: ')\n",
    "\n",
    "# Permitir acentuação na criptografia\n",
    "mensagem = unicodedata.normalize('NFD', mensagem)\n",
    "\n",
    "alfab_minusc = string.ascii_lowercase #retorna uma string com todas as letras do alfabeto minúsculas\n",
    "\n",
    "# Transformando o alfabeto minúsculo em lista e invertendo a ordem\n",
    "lista_alf_min = list(alfab_minusc)\n",
    "lista_alf_min.reverse()\n",
    "alfab_minusc_invert = ''.join(lista_alf_min)\n",
    "\n",
    "# Criptografando a mensagem com letras minúsculas\n",
    "mensag_minusc_inv = mensagem.maketrans(alfab_minusc, alfab_minusc_invert)\n",
    "mensagem = mensagem.translate(mensag_minusc_inv)\n",
    "\n",
    "alfab_maiusc = string.ascii_uppercase #retorna uma string com todas as letras do alfabeto maiúsculas\n",
    "\n",
    "# Transformando o alfabeto maiúsculo em lista e invertendo a ordem\n",
    "lista_alfab_maiusc = list(alfab_maiusc)\n",
    "lista_alfab_maiusc.reverse()\n",
    "alfab_maiusc_invert = ''.join(lista_alfab_maiusc)\n",
    "\n",
    "# Criptografando a mensagem com letras maiúsculas\n",
    "mensag_maiusc_inv = mensagem.maketrans(alfab_maiusc, alfab_maiusc_invert)\n",
    "mensagem = mensagem.translate(mensag_maiusc_inv)\n",
    "\n",
    "print('Mensagem criptografada:',mensagem)\n",
    "\n",
    "# Teste:\n",
    "# Girei a maçaneta e a porta não abriu"
   ]
  },
  {
   "cell_type": "markdown",
   "metadata": {},
   "source": [
    "# Desvio padrão"
   ]
  },
  {
   "cell_type": "code",
   "execution_count": 53,
   "metadata": {},
   "outputs": [
    {
     "data": {
      "text/plain": [
       "(1.5, 2.875, 1.0810874155219827, 4.75)"
      ]
     },
     "execution_count": 53,
     "metadata": {},
     "output_type": "execute_result"
    }
   ],
   "source": [
    "import statistics\n",
    "\n",
    "def funcao(lista):\n",
    "    minimo = min(lista)\n",
    "    media = sum(lista) / len(lista)\n",
    "    desvio = statistics.stdev(lista)\n",
    "    maximo = max(lista)\n",
    "    return minimo, media, desvio, maximo\n",
    "\n",
    "lista = [1.5, 2.5, 2.5, 2.75, 3.25, 4.75]\n",
    "funcao(lista)"
   ]
  },
  {
   "cell_type": "markdown",
   "metadata": {},
   "source": [
    "# Transformando string numérica em número"
   ]
  },
  {
   "cell_type": "code",
   "execution_count": 57,
   "metadata": {},
   "outputs": [
    {
     "data": {
      "text/plain": [
       "(True, [7, 2.2, -2.2, -10, 0, 29, 28])"
      ]
     },
     "execution_count": 57,
     "metadata": {},
     "output_type": "execute_result"
    }
   ],
   "source": [
    "def funcao(lista):\n",
    "    lista_trat = []\n",
    "    for elem in lista:\n",
    "        if not (type(elem) == int or type(elem) == float or elem.strip().replace('-', '').replace('+', '').replace('.', '').isdigit()):\n",
    "            lista.remove(elem)\n",
    "            lista_trat = lista[:]\n",
    "            return False\n",
    "        else:\n",
    "            if type(elem) == int or type(elem) == float:\n",
    "                lista_trat.append(elem)\n",
    "            else:\n",
    "                elem_trat = eval(elem)\n",
    "                lista_trat.append(elem_trat)\n",
    "    return True, lista_trat\n",
    "\n",
    "# lista = [1, 2, 3, 4, 5, 6, 7]\n",
    "lista = ['7', '2.2', '-2.2', '-10', '0', 29, 28]\n",
    "# lista = [-1, 0, 1, 2, 2.2, -1.2, '1', '-2.2', 'a', 'b']\n",
    "funcao(lista)"
   ]
  },
  {
   "cell_type": "markdown",
   "metadata": {},
   "source": [
    "# Bhaskara"
   ]
  },
  {
   "cell_type": "code",
   "execution_count": 58,
   "metadata": {},
   "outputs": [
    {
     "name": "stdout",
     "output_type": "stream",
     "text": [
      "Digite o valor de a: 5\n",
      "Digite o valor de b: 20\n",
      "Digite o valor de c: 0\n"
     ]
    },
    {
     "data": {
      "text/plain": [
       "(400.0, (-2.0, -20.0), [0.0, -4.0])"
      ]
     },
     "execution_count": 58,
     "metadata": {},
     "output_type": "execute_result"
    }
   ],
   "source": [
    "import math\n",
    "\n",
    "def bhaskara():\n",
    "    a = float(input('Digite o valor de a: '))\n",
    "    b = float(input('Digite o valor de b: '))\n",
    "    c = float(input('Digite o valor de c: '))\n",
    "    \n",
    "    # Resolvendo a equação quadrática: a*x**2 + b*x + c = 0\n",
    "    \n",
    "    delta = b ** 2 - 4 * a * c\n",
    "    \n",
    "    x_m = -b / (2 * a)\n",
    "    y_m = -delta / (4 * a)\n",
    "    tupla_min_max = (x_m, y_m)\n",
    "    \n",
    "    if delta == 0:\n",
    "        raiz1 = (- b + math.sqrt(delta)) / (2 * a)\n",
    "        # print('A única raiz é:',raiz1)\n",
    "        lista_raizes = [raiz1]\n",
    "    else:\n",
    "        if delta < 0:\n",
    "            # print('Esta equação não possui raízes reais.')\n",
    "            lista_raizes = []\n",
    "        else:\n",
    "            raiz1 = (- b + math.sqrt(delta)) / (2 * a)\n",
    "            raiz2 = (- b - math.sqrt(delta)) / (2 * a)\n",
    "            # print('A primeira raiz é:',raiz1)\n",
    "            # print('A segunda raiz é:',raiz2)\n",
    "            lista_raizes = [raiz1, raiz2]\n",
    "    \n",
    "    return delta, tupla_min_max, lista_raizes\n",
    "\n",
    "bhaskara()"
   ]
  },
  {
   "cell_type": "markdown",
   "metadata": {},
   "source": [
    "# Frequência de um elemento em uma lista"
   ]
  },
  {
   "cell_type": "code",
   "execution_count": 59,
   "metadata": {},
   "outputs": [
    {
     "data": {
      "text/plain": [
       "{'abelha': 2, '1.2': 1, '4.4': 1, 7: 3, 9: 1}"
      ]
     },
     "execution_count": 59,
     "metadata": {},
     "output_type": "execute_result"
    }
   ],
   "source": [
    "def funcao(lista):\n",
    "    \n",
    "    dicio_freq = {}\n",
    "\n",
    "    for elem in lista:\n",
    "        if elem in dicio_freq:\n",
    "            dicio_freq[elem] += 1\n",
    "        else:\n",
    "            dicio_freq[elem] = 1\n",
    "    return dicio_freq\n",
    "\n",
    "lista = ['abelha', 'abelha', '1.2', '4.4', 7, 7, 7, 9]\n",
    "funcao(lista)"
   ]
  },
  {
   "cell_type": "code",
   "execution_count": null,
   "metadata": {},
   "outputs": [],
   "source": []
  }
 ],
 "metadata": {
  "kernelspec": {
   "display_name": "Python 3",
   "language": "python",
   "name": "python3"
  },
  "language_info": {
   "codemirror_mode": {
    "name": "ipython",
    "version": 3
   },
   "file_extension": ".py",
   "mimetype": "text/x-python",
   "name": "python",
   "nbconvert_exporter": "python",
   "pygments_lexer": "ipython3",
   "version": "3.9.5"
  }
 },
 "nbformat": 4,
 "nbformat_minor": 4
}
