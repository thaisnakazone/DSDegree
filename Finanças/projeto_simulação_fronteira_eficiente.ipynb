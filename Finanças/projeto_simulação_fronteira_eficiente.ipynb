{
 "cells": [
  {
   "cell_type": "markdown",
   "metadata": {},
   "source": [
    "# Simulação da Fronteira Eficiente"
   ]
  },
  {
   "cell_type": "markdown",
   "metadata": {},
   "source": [
    "### Atividades\n",
    "\n",
    "1. Ler as bases de preços diários\n",
    "2. Calcular retornos relativos diários (HP=1)\n",
    "3. Calcular retorno médio e desvio padrão de cada ativo\n",
    "4. Calcular matriz de covariância dos ativos\n",
    "5. Plotar os ativos num gráfico de dispersão: retorno x risco\n",
    "6. Definir pesos para os ativos e compor em uma carteira. Calcular o retorno e o risco desta carteira\n",
    "7. Simular diversos conjuntos de pesos aleatoriamente e plotar no gráfico de dispersão estas carteiras\n",
    "\n",
    "### Dicas\n",
    "\n",
    "1. Defina funções para ler as bases ao invés de repetir os códigos.\n",
    "2. Utilize as funções do Pandas - .mean(), .cov(), .shift(), etc.\n",
    "3. Verifique os resultados a cada cálculo.\n",
    "4. Para multiplicação matricial, utilize: np.dot()\n",
    "5. Para simular valores aleatórios, utilize: np.ramdon.ramdon()"
   ]
  },
  {
   "cell_type": "code",
   "execution_count": 1,
   "metadata": {},
   "outputs": [],
   "source": [
    "# Bibliotecas\n",
    "import numpy as np\n",
    "import pandas as pd\n",
    "from matplotlib import pyplot as plt\n",
    "from sklearn.linear_model import LinearRegression\n",
    "import scipy.optimize as solver"
   ]
  },
  {
   "cell_type": "code",
   "execution_count": 2,
   "metadata": {
    "colab": {
     "base_uri": "https://localhost:8080/",
     "height": 475
    },
    "executionInfo": {
     "elapsed": 355,
     "status": "error",
     "timestamp": 1639696536204,
     "user": {
      "displayName": "Gustavo Previatto",
      "photoUrl": "https://lh3.googleusercontent.com/a-/AOh14GjObmSR4ca42p9ql2BFwTDO-JKvFQe5-jaQaAMvsA=s64",
      "userId": "00510215832706198465"
     },
     "user_tz": 180
    },
    "id": "tQNopJIwhPe1",
    "outputId": "0ad2189a-b1dc-4e78-c45a-de2c5cb533e5"
   },
   "outputs": [],
   "source": [
    "# Ler e tratar as bases\n",
    "def read_infoMoney(file_name):\n",
    "    df = pd.read_csv('Bases/'+file_name, decimal=',')\n",
    "    df['DATA'] = pd.to_datetime(df['DATA'])\n",
    "    df = df[['DATA', 'FECHAMENTO']].set_index('DATA')\n",
    "    return df"
   ]
  },
  {
   "cell_type": "code",
   "execution_count": 3,
   "metadata": {},
   "outputs": [
    {
     "data": {
      "text/plain": [
       "{'ABEV3': 'Ambev SA ABEV3 - Histórico InfoMoney.csv',\n",
       " 'PETR3': 'Petrobras PETR3 - Histórico InfoMoney.csv',\n",
       " 'MGLU3': 'Magazine Luiza MGLU3 - Histórico InfoMoney.csv',\n",
       " 'ITUB3': 'Itaú Unibanco ITUB3 - Histórico InfoMoney.csv',\n",
       " 'ALPA3': 'Alpargatas ALPA3 - Histórico InfoMoney.csv',\n",
       " 'VALE3': 'Vale S.A. VALE3 - Histórico InfoMoney.csv'}"
      ]
     },
     "execution_count": 3,
     "metadata": {},
     "output_type": "execute_result"
    }
   ],
   "source": [
    "# Dicionário de ativos\n",
    "assets = {'ABEV3': 'Ambev SA ABEV3 - Histórico InfoMoney.csv',\n",
    "          'PETR3': 'Petrobras PETR3 - Histórico InfoMoney.csv',\n",
    "          'MGLU3': 'Magazine Luiza MGLU3 - Histórico InfoMoney.csv',\n",
    "          'ITUB3': 'Itaú Unibanco ITUB3 - Histórico InfoMoney.csv',\n",
    "          'ALPA3': 'Alpargatas ALPA3 - Histórico InfoMoney.csv',\n",
    "          'VALE3': 'Vale S.A. VALE3 - Histórico InfoMoney.csv'}\n",
    "assets"
   ]
  },
  {
   "cell_type": "code",
   "execution_count": 4,
   "metadata": {},
   "outputs": [
    {
     "data": {
      "text/html": [
       "<div>\n",
       "<style scoped>\n",
       "    .dataframe tbody tr th:only-of-type {\n",
       "        vertical-align: middle;\n",
       "    }\n",
       "\n",
       "    .dataframe tbody tr th {\n",
       "        vertical-align: top;\n",
       "    }\n",
       "\n",
       "    .dataframe thead th {\n",
       "        text-align: right;\n",
       "    }\n",
       "</style>\n",
       "<table border=\"1\" class=\"dataframe\">\n",
       "  <thead>\n",
       "    <tr style=\"text-align: right;\">\n",
       "      <th></th>\n",
       "      <th>ABEV3</th>\n",
       "      <th>PETR3</th>\n",
       "      <th>MGLU3</th>\n",
       "      <th>ITUB3</th>\n",
       "      <th>ALPA3</th>\n",
       "      <th>VALE3</th>\n",
       "    </tr>\n",
       "    <tr>\n",
       "      <th>DATA</th>\n",
       "      <th></th>\n",
       "      <th></th>\n",
       "      <th></th>\n",
       "      <th></th>\n",
       "      <th></th>\n",
       "      <th></th>\n",
       "    </tr>\n",
       "  </thead>\n",
       "  <tbody>\n",
       "    <tr>\n",
       "      <th>2018-12-28</th>\n",
       "      <td>13.99</td>\n",
       "      <td>20.27</td>\n",
       "      <td>5.59</td>\n",
       "      <td>20.52</td>\n",
       "      <td>20.17</td>\n",
       "      <td>40.76</td>\n",
       "    </tr>\n",
       "    <tr>\n",
       "      <th>2018-12-27</th>\n",
       "      <td>13.73</td>\n",
       "      <td>19.51</td>\n",
       "      <td>5.38</td>\n",
       "      <td>20.14</td>\n",
       "      <td>19.66</td>\n",
       "      <td>39.56</td>\n",
       "    </tr>\n",
       "    <tr>\n",
       "      <th>2018-12-26</th>\n",
       "      <td>13.77</td>\n",
       "      <td>19.62</td>\n",
       "      <td>5.46</td>\n",
       "      <td>19.81</td>\n",
       "      <td>NaN</td>\n",
       "      <td>40.31</td>\n",
       "    </tr>\n",
       "    <tr>\n",
       "      <th>2018-12-21</th>\n",
       "      <td>13.80</td>\n",
       "      <td>19.26</td>\n",
       "      <td>5.65</td>\n",
       "      <td>20.01</td>\n",
       "      <td>20.69</td>\n",
       "      <td>40.65</td>\n",
       "    </tr>\n",
       "    <tr>\n",
       "      <th>2018-12-20</th>\n",
       "      <td>13.83</td>\n",
       "      <td>19.24</td>\n",
       "      <td>5.50</td>\n",
       "      <td>20.35</td>\n",
       "      <td>20.03</td>\n",
       "      <td>39.81</td>\n",
       "    </tr>\n",
       "    <tr>\n",
       "      <th>...</th>\n",
       "      <td>...</td>\n",
       "      <td>...</td>\n",
       "      <td>...</td>\n",
       "      <td>...</td>\n",
       "      <td>...</td>\n",
       "      <td>...</td>\n",
       "    </tr>\n",
       "    <tr>\n",
       "      <th>2018-08-01</th>\n",
       "      <td>19.08</td>\n",
       "      <td>14.32</td>\n",
       "      <td>2.42</td>\n",
       "      <td>17.01</td>\n",
       "      <td>20.43</td>\n",
       "      <td>33.20</td>\n",
       "    </tr>\n",
       "    <tr>\n",
       "      <th>2018-05-01</th>\n",
       "      <td>19.11</td>\n",
       "      <td>14.10</td>\n",
       "      <td>2.42</td>\n",
       "      <td>17.11</td>\n",
       "      <td>20.38</td>\n",
       "      <td>32.48</td>\n",
       "    </tr>\n",
       "    <tr>\n",
       "      <th>2018-04-01</th>\n",
       "      <td>19.04</td>\n",
       "      <td>13.99</td>\n",
       "      <td>2.47</td>\n",
       "      <td>16.99</td>\n",
       "      <td>20.48</td>\n",
       "      <td>31.98</td>\n",
       "    </tr>\n",
       "    <tr>\n",
       "      <th>2018-03-01</th>\n",
       "      <td>19.15</td>\n",
       "      <td>13.87</td>\n",
       "      <td>2.41</td>\n",
       "      <td>16.80</td>\n",
       "      <td>20.42</td>\n",
       "      <td>31.85</td>\n",
       "    </tr>\n",
       "    <tr>\n",
       "      <th>2018-02-01</th>\n",
       "      <td>19.10</td>\n",
       "      <td>13.70</td>\n",
       "      <td>2.44</td>\n",
       "      <td>16.67</td>\n",
       "      <td>NaN</td>\n",
       "      <td>32.04</td>\n",
       "    </tr>\n",
       "  </tbody>\n",
       "</table>\n",
       "<p>245 rows × 6 columns</p>\n",
       "</div>"
      ],
      "text/plain": [
       "            ABEV3  PETR3  MGLU3  ITUB3  ALPA3  VALE3\n",
       "DATA                                                \n",
       "2018-12-28  13.99  20.27   5.59  20.52  20.17  40.76\n",
       "2018-12-27  13.73  19.51   5.38  20.14  19.66  39.56\n",
       "2018-12-26  13.77  19.62   5.46  19.81    NaN  40.31\n",
       "2018-12-21  13.80  19.26   5.65  20.01  20.69  40.65\n",
       "2018-12-20  13.83  19.24   5.50  20.35  20.03  39.81\n",
       "...           ...    ...    ...    ...    ...    ...\n",
       "2018-08-01  19.08  14.32   2.42  17.01  20.43  33.20\n",
       "2018-05-01  19.11  14.10   2.42  17.11  20.38  32.48\n",
       "2018-04-01  19.04  13.99   2.47  16.99  20.48  31.98\n",
       "2018-03-01  19.15  13.87   2.41  16.80  20.42  31.85\n",
       "2018-02-01  19.10  13.70   2.44  16.67    NaN  32.04\n",
       "\n",
       "[245 rows x 6 columns]"
      ]
     },
     "execution_count": 4,
     "metadata": {},
     "output_type": "execute_result"
    }
   ],
   "source": [
    "# Consolidando os dados em um único DF\n",
    "df_assets = pd.DataFrame()\n",
    "\n",
    "for key, value in assets.items():\n",
    "    df_assets[key] = read_infoMoney(value)\n",
    "    \n",
    "df_assets"
   ]
  },
  {
   "cell_type": "markdown",
   "metadata": {},
   "source": [
    "Nota-se alguns dados nulos no DF"
   ]
  },
  {
   "cell_type": "code",
   "execution_count": 5,
   "metadata": {},
   "outputs": [
    {
     "name": "stdout",
     "output_type": "stream",
     "text": [
      "<class 'pandas.core.frame.DataFrame'>\n",
      "DatetimeIndex: 245 entries, 2018-12-28 to 2018-02-01\n",
      "Data columns (total 6 columns):\n",
      " #   Column  Non-Null Count  Dtype  \n",
      "---  ------  --------------  -----  \n",
      " 0   ABEV3   245 non-null    float64\n",
      " 1   PETR3   245 non-null    float64\n",
      " 2   MGLU3   245 non-null    float64\n",
      " 3   ITUB3   245 non-null    float64\n",
      " 4   ALPA3   208 non-null    float64\n",
      " 5   VALE3   245 non-null    float64\n",
      "dtypes: float64(6)\n",
      "memory usage: 13.4 KB\n"
     ]
    }
   ],
   "source": [
    "# Verificando dados nulos\n",
    "df_assets.info()"
   ]
  },
  {
   "cell_type": "code",
   "execution_count": 6,
   "metadata": {},
   "outputs": [
    {
     "data": {
      "text/html": [
       "<div>\n",
       "<style scoped>\n",
       "    .dataframe tbody tr th:only-of-type {\n",
       "        vertical-align: middle;\n",
       "    }\n",
       "\n",
       "    .dataframe tbody tr th {\n",
       "        vertical-align: top;\n",
       "    }\n",
       "\n",
       "    .dataframe thead th {\n",
       "        text-align: right;\n",
       "    }\n",
       "</style>\n",
       "<table border=\"1\" class=\"dataframe\">\n",
       "  <thead>\n",
       "    <tr style=\"text-align: right;\">\n",
       "      <th></th>\n",
       "      <th>ABEV3</th>\n",
       "      <th>PETR3</th>\n",
       "      <th>MGLU3</th>\n",
       "      <th>ITUB3</th>\n",
       "      <th>ALPA3</th>\n",
       "      <th>VALE3</th>\n",
       "    </tr>\n",
       "    <tr>\n",
       "      <th>DATA</th>\n",
       "      <th></th>\n",
       "      <th></th>\n",
       "      <th></th>\n",
       "      <th></th>\n",
       "      <th></th>\n",
       "      <th></th>\n",
       "    </tr>\n",
       "  </thead>\n",
       "  <tbody>\n",
       "    <tr>\n",
       "      <th>2018-12-28</th>\n",
       "      <td>13.99</td>\n",
       "      <td>20.27</td>\n",
       "      <td>5.59</td>\n",
       "      <td>20.52</td>\n",
       "      <td>20.17</td>\n",
       "      <td>40.76</td>\n",
       "    </tr>\n",
       "    <tr>\n",
       "      <th>2018-12-27</th>\n",
       "      <td>13.73</td>\n",
       "      <td>19.51</td>\n",
       "      <td>5.38</td>\n",
       "      <td>20.14</td>\n",
       "      <td>19.66</td>\n",
       "      <td>39.56</td>\n",
       "    </tr>\n",
       "    <tr>\n",
       "      <th>2018-12-26</th>\n",
       "      <td>13.77</td>\n",
       "      <td>19.62</td>\n",
       "      <td>5.46</td>\n",
       "      <td>19.81</td>\n",
       "      <td>20.69</td>\n",
       "      <td>40.31</td>\n",
       "    </tr>\n",
       "    <tr>\n",
       "      <th>2018-12-21</th>\n",
       "      <td>13.80</td>\n",
       "      <td>19.26</td>\n",
       "      <td>5.65</td>\n",
       "      <td>20.01</td>\n",
       "      <td>20.69</td>\n",
       "      <td>40.65</td>\n",
       "    </tr>\n",
       "    <tr>\n",
       "      <th>2018-12-20</th>\n",
       "      <td>13.83</td>\n",
       "      <td>19.24</td>\n",
       "      <td>5.50</td>\n",
       "      <td>20.35</td>\n",
       "      <td>20.03</td>\n",
       "      <td>39.81</td>\n",
       "    </tr>\n",
       "    <tr>\n",
       "      <th>...</th>\n",
       "      <td>...</td>\n",
       "      <td>...</td>\n",
       "      <td>...</td>\n",
       "      <td>...</td>\n",
       "      <td>...</td>\n",
       "      <td>...</td>\n",
       "    </tr>\n",
       "    <tr>\n",
       "      <th>2018-08-01</th>\n",
       "      <td>19.08</td>\n",
       "      <td>14.32</td>\n",
       "      <td>2.42</td>\n",
       "      <td>17.01</td>\n",
       "      <td>20.43</td>\n",
       "      <td>33.20</td>\n",
       "    </tr>\n",
       "    <tr>\n",
       "      <th>2018-05-01</th>\n",
       "      <td>19.11</td>\n",
       "      <td>14.10</td>\n",
       "      <td>2.42</td>\n",
       "      <td>17.11</td>\n",
       "      <td>20.38</td>\n",
       "      <td>32.48</td>\n",
       "    </tr>\n",
       "    <tr>\n",
       "      <th>2018-04-01</th>\n",
       "      <td>19.04</td>\n",
       "      <td>13.99</td>\n",
       "      <td>2.47</td>\n",
       "      <td>16.99</td>\n",
       "      <td>20.48</td>\n",
       "      <td>31.98</td>\n",
       "    </tr>\n",
       "    <tr>\n",
       "      <th>2018-03-01</th>\n",
       "      <td>19.15</td>\n",
       "      <td>13.87</td>\n",
       "      <td>2.41</td>\n",
       "      <td>16.80</td>\n",
       "      <td>20.42</td>\n",
       "      <td>31.85</td>\n",
       "    </tr>\n",
       "    <tr>\n",
       "      <th>2018-02-01</th>\n",
       "      <td>19.10</td>\n",
       "      <td>13.70</td>\n",
       "      <td>2.44</td>\n",
       "      <td>16.67</td>\n",
       "      <td>NaN</td>\n",
       "      <td>32.04</td>\n",
       "    </tr>\n",
       "  </tbody>\n",
       "</table>\n",
       "<p>245 rows × 6 columns</p>\n",
       "</div>"
      ],
      "text/plain": [
       "            ABEV3  PETR3  MGLU3  ITUB3  ALPA3  VALE3\n",
       "DATA                                                \n",
       "2018-12-28  13.99  20.27   5.59  20.52  20.17  40.76\n",
       "2018-12-27  13.73  19.51   5.38  20.14  19.66  39.56\n",
       "2018-12-26  13.77  19.62   5.46  19.81  20.69  40.31\n",
       "2018-12-21  13.80  19.26   5.65  20.01  20.69  40.65\n",
       "2018-12-20  13.83  19.24   5.50  20.35  20.03  39.81\n",
       "...           ...    ...    ...    ...    ...    ...\n",
       "2018-08-01  19.08  14.32   2.42  17.01  20.43  33.20\n",
       "2018-05-01  19.11  14.10   2.42  17.11  20.38  32.48\n",
       "2018-04-01  19.04  13.99   2.47  16.99  20.48  31.98\n",
       "2018-03-01  19.15  13.87   2.41  16.80  20.42  31.85\n",
       "2018-02-01  19.10  13.70   2.44  16.67    NaN  32.04\n",
       "\n",
       "[245 rows x 6 columns]"
      ]
     },
     "execution_count": 6,
     "metadata": {},
     "output_type": "execute_result"
    }
   ],
   "source": [
    "# Preenchendo os dados nulos em ALPA3 com o dado da data anterior\n",
    "df_assets['ALPA3'].fillna(method='backfill', inplace=True)\n",
    "df_assets"
   ]
  },
  {
   "cell_type": "code",
   "execution_count": 7,
   "metadata": {
    "id": "_z3JgnAVhPe3"
   },
   "outputs": [
    {
     "data": {
      "text/html": [
       "<div>\n",
       "<style scoped>\n",
       "    .dataframe tbody tr th:only-of-type {\n",
       "        vertical-align: middle;\n",
       "    }\n",
       "\n",
       "    .dataframe tbody tr th {\n",
       "        vertical-align: top;\n",
       "    }\n",
       "\n",
       "    .dataframe thead th {\n",
       "        text-align: right;\n",
       "    }\n",
       "</style>\n",
       "<table border=\"1\" class=\"dataframe\">\n",
       "  <thead>\n",
       "    <tr style=\"text-align: right;\">\n",
       "      <th></th>\n",
       "      <th>ABEV3</th>\n",
       "      <th>PETR3</th>\n",
       "      <th>MGLU3</th>\n",
       "      <th>ITUB3</th>\n",
       "      <th>ALPA3</th>\n",
       "      <th>VALE3</th>\n",
       "    </tr>\n",
       "    <tr>\n",
       "      <th>DATA</th>\n",
       "      <th></th>\n",
       "      <th></th>\n",
       "      <th></th>\n",
       "      <th></th>\n",
       "      <th></th>\n",
       "      <th></th>\n",
       "    </tr>\n",
       "  </thead>\n",
       "  <tbody>\n",
       "    <tr>\n",
       "      <th>2018-12-28</th>\n",
       "      <td>0.018937</td>\n",
       "      <td>0.038954</td>\n",
       "      <td>0.039033</td>\n",
       "      <td>0.018868</td>\n",
       "      <td>0.025941</td>\n",
       "      <td>0.030334</td>\n",
       "    </tr>\n",
       "    <tr>\n",
       "      <th>2018-12-27</th>\n",
       "      <td>-0.002905</td>\n",
       "      <td>-0.005607</td>\n",
       "      <td>-0.014652</td>\n",
       "      <td>0.016658</td>\n",
       "      <td>-0.049783</td>\n",
       "      <td>-0.018606</td>\n",
       "    </tr>\n",
       "    <tr>\n",
       "      <th>2018-12-26</th>\n",
       "      <td>-0.002174</td>\n",
       "      <td>0.018692</td>\n",
       "      <td>-0.033628</td>\n",
       "      <td>-0.009995</td>\n",
       "      <td>0.000000</td>\n",
       "      <td>-0.008364</td>\n",
       "    </tr>\n",
       "    <tr>\n",
       "      <th>2018-12-21</th>\n",
       "      <td>-0.002169</td>\n",
       "      <td>0.001040</td>\n",
       "      <td>0.027273</td>\n",
       "      <td>-0.016708</td>\n",
       "      <td>0.032951</td>\n",
       "      <td>0.021100</td>\n",
       "    </tr>\n",
       "    <tr>\n",
       "      <th>2018-12-20</th>\n",
       "      <td>-0.012848</td>\n",
       "      <td>-0.024341</td>\n",
       "      <td>0.005484</td>\n",
       "      <td>0.003947</td>\n",
       "      <td>0.000000</td>\n",
       "      <td>-0.004003</td>\n",
       "    </tr>\n",
       "    <tr>\n",
       "      <th>...</th>\n",
       "      <td>...</td>\n",
       "      <td>...</td>\n",
       "      <td>...</td>\n",
       "      <td>...</td>\n",
       "      <td>...</td>\n",
       "      <td>...</td>\n",
       "    </tr>\n",
       "    <tr>\n",
       "      <th>2018-08-01</th>\n",
       "      <td>-0.001570</td>\n",
       "      <td>0.015603</td>\n",
       "      <td>0.000000</td>\n",
       "      <td>-0.005845</td>\n",
       "      <td>0.002453</td>\n",
       "      <td>0.022167</td>\n",
       "    </tr>\n",
       "    <tr>\n",
       "      <th>2018-05-01</th>\n",
       "      <td>0.003676</td>\n",
       "      <td>0.007863</td>\n",
       "      <td>-0.020243</td>\n",
       "      <td>0.007063</td>\n",
       "      <td>-0.004883</td>\n",
       "      <td>0.015635</td>\n",
       "    </tr>\n",
       "    <tr>\n",
       "      <th>2018-04-01</th>\n",
       "      <td>-0.005744</td>\n",
       "      <td>0.008652</td>\n",
       "      <td>0.024896</td>\n",
       "      <td>0.011310</td>\n",
       "      <td>0.002938</td>\n",
       "      <td>0.004082</td>\n",
       "    </tr>\n",
       "    <tr>\n",
       "      <th>2018-03-01</th>\n",
       "      <td>0.002618</td>\n",
       "      <td>0.012409</td>\n",
       "      <td>-0.012295</td>\n",
       "      <td>0.007798</td>\n",
       "      <td>NaN</td>\n",
       "      <td>-0.005930</td>\n",
       "    </tr>\n",
       "    <tr>\n",
       "      <th>2018-02-01</th>\n",
       "      <td>NaN</td>\n",
       "      <td>NaN</td>\n",
       "      <td>NaN</td>\n",
       "      <td>NaN</td>\n",
       "      <td>NaN</td>\n",
       "      <td>NaN</td>\n",
       "    </tr>\n",
       "  </tbody>\n",
       "</table>\n",
       "<p>245 rows × 6 columns</p>\n",
       "</div>"
      ],
      "text/plain": [
       "               ABEV3     PETR3     MGLU3     ITUB3     ALPA3     VALE3\n",
       "DATA                                                                  \n",
       "2018-12-28  0.018937  0.038954  0.039033  0.018868  0.025941  0.030334\n",
       "2018-12-27 -0.002905 -0.005607 -0.014652  0.016658 -0.049783 -0.018606\n",
       "2018-12-26 -0.002174  0.018692 -0.033628 -0.009995  0.000000 -0.008364\n",
       "2018-12-21 -0.002169  0.001040  0.027273 -0.016708  0.032951  0.021100\n",
       "2018-12-20 -0.012848 -0.024341  0.005484  0.003947  0.000000 -0.004003\n",
       "...              ...       ...       ...       ...       ...       ...\n",
       "2018-08-01 -0.001570  0.015603  0.000000 -0.005845  0.002453  0.022167\n",
       "2018-05-01  0.003676  0.007863 -0.020243  0.007063 -0.004883  0.015635\n",
       "2018-04-01 -0.005744  0.008652  0.024896  0.011310  0.002938  0.004082\n",
       "2018-03-01  0.002618  0.012409 -0.012295  0.007798       NaN -0.005930\n",
       "2018-02-01       NaN       NaN       NaN       NaN       NaN       NaN\n",
       "\n",
       "[245 rows x 6 columns]"
      ]
     },
     "execution_count": 7,
     "metadata": {},
     "output_type": "execute_result"
    }
   ],
   "source": [
    "# Calcular retornos\n",
    "def calc_return(df, hp):\n",
    "    # retorno simples = preço de hoje / preço de ontem - 1\n",
    "    # Como o df começa com a data mais recente, colocamos (-hp)\n",
    "    df_returns = df / df.shift(-hp) - 1\n",
    "    \n",
    "    return df_returns\n",
    "\n",
    "df_returns = calc_return(df_assets, hp=1)\n",
    "df_returns"
   ]
  },
  {
   "cell_type": "code",
   "execution_count": 8,
   "metadata": {},
   "outputs": [
    {
     "data": {
      "text/html": [
       "<div>\n",
       "<style scoped>\n",
       "    .dataframe tbody tr th:only-of-type {\n",
       "        vertical-align: middle;\n",
       "    }\n",
       "\n",
       "    .dataframe tbody tr th {\n",
       "        vertical-align: top;\n",
       "    }\n",
       "\n",
       "    .dataframe thead th {\n",
       "        text-align: right;\n",
       "    }\n",
       "</style>\n",
       "<table border=\"1\" class=\"dataframe\">\n",
       "  <thead>\n",
       "    <tr style=\"text-align: right;\">\n",
       "      <th></th>\n",
       "      <th>ABEV3</th>\n",
       "      <th>PETR3</th>\n",
       "      <th>MGLU3</th>\n",
       "      <th>ITUB3</th>\n",
       "      <th>ALPA3</th>\n",
       "      <th>VALE3</th>\n",
       "    </tr>\n",
       "    <tr>\n",
       "      <th>DATA</th>\n",
       "      <th></th>\n",
       "      <th></th>\n",
       "      <th></th>\n",
       "      <th></th>\n",
       "      <th></th>\n",
       "      <th></th>\n",
       "    </tr>\n",
       "  </thead>\n",
       "  <tbody>\n",
       "    <tr>\n",
       "      <th>2018-12-28</th>\n",
       "      <td>0.018937</td>\n",
       "      <td>0.038954</td>\n",
       "      <td>0.039033</td>\n",
       "      <td>0.018868</td>\n",
       "      <td>0.025941</td>\n",
       "      <td>0.030334</td>\n",
       "    </tr>\n",
       "    <tr>\n",
       "      <th>2018-12-27</th>\n",
       "      <td>-0.002905</td>\n",
       "      <td>-0.005607</td>\n",
       "      <td>-0.014652</td>\n",
       "      <td>0.016658</td>\n",
       "      <td>-0.049783</td>\n",
       "      <td>-0.018606</td>\n",
       "    </tr>\n",
       "    <tr>\n",
       "      <th>2018-12-26</th>\n",
       "      <td>-0.002174</td>\n",
       "      <td>0.018692</td>\n",
       "      <td>-0.033628</td>\n",
       "      <td>-0.009995</td>\n",
       "      <td>0.000000</td>\n",
       "      <td>-0.008364</td>\n",
       "    </tr>\n",
       "    <tr>\n",
       "      <th>2018-12-21</th>\n",
       "      <td>-0.002169</td>\n",
       "      <td>0.001040</td>\n",
       "      <td>0.027273</td>\n",
       "      <td>-0.016708</td>\n",
       "      <td>0.032951</td>\n",
       "      <td>0.021100</td>\n",
       "    </tr>\n",
       "    <tr>\n",
       "      <th>2018-12-20</th>\n",
       "      <td>-0.012848</td>\n",
       "      <td>-0.024341</td>\n",
       "      <td>0.005484</td>\n",
       "      <td>0.003947</td>\n",
       "      <td>0.000000</td>\n",
       "      <td>-0.004003</td>\n",
       "    </tr>\n",
       "    <tr>\n",
       "      <th>...</th>\n",
       "      <td>...</td>\n",
       "      <td>...</td>\n",
       "      <td>...</td>\n",
       "      <td>...</td>\n",
       "      <td>...</td>\n",
       "      <td>...</td>\n",
       "    </tr>\n",
       "    <tr>\n",
       "      <th>2018-10-01</th>\n",
       "      <td>0.000000</td>\n",
       "      <td>-0.018855</td>\n",
       "      <td>0.012712</td>\n",
       "      <td>0.003578</td>\n",
       "      <td>-0.036179</td>\n",
       "      <td>-0.013906</td>\n",
       "    </tr>\n",
       "    <tr>\n",
       "      <th>2018-09-01</th>\n",
       "      <td>-0.003145</td>\n",
       "      <td>0.000000</td>\n",
       "      <td>-0.024793</td>\n",
       "      <td>-0.014109</td>\n",
       "      <td>0.014684</td>\n",
       "      <td>-0.003614</td>\n",
       "    </tr>\n",
       "    <tr>\n",
       "      <th>2018-08-01</th>\n",
       "      <td>-0.001570</td>\n",
       "      <td>0.015603</td>\n",
       "      <td>0.000000</td>\n",
       "      <td>-0.005845</td>\n",
       "      <td>0.002453</td>\n",
       "      <td>0.022167</td>\n",
       "    </tr>\n",
       "    <tr>\n",
       "      <th>2018-05-01</th>\n",
       "      <td>0.003676</td>\n",
       "      <td>0.007863</td>\n",
       "      <td>-0.020243</td>\n",
       "      <td>0.007063</td>\n",
       "      <td>-0.004883</td>\n",
       "      <td>0.015635</td>\n",
       "    </tr>\n",
       "    <tr>\n",
       "      <th>2018-04-01</th>\n",
       "      <td>-0.005744</td>\n",
       "      <td>0.008652</td>\n",
       "      <td>0.024896</td>\n",
       "      <td>0.011310</td>\n",
       "      <td>0.002938</td>\n",
       "      <td>0.004082</td>\n",
       "    </tr>\n",
       "  </tbody>\n",
       "</table>\n",
       "<p>243 rows × 6 columns</p>\n",
       "</div>"
      ],
      "text/plain": [
       "               ABEV3     PETR3     MGLU3     ITUB3     ALPA3     VALE3\n",
       "DATA                                                                  \n",
       "2018-12-28  0.018937  0.038954  0.039033  0.018868  0.025941  0.030334\n",
       "2018-12-27 -0.002905 -0.005607 -0.014652  0.016658 -0.049783 -0.018606\n",
       "2018-12-26 -0.002174  0.018692 -0.033628 -0.009995  0.000000 -0.008364\n",
       "2018-12-21 -0.002169  0.001040  0.027273 -0.016708  0.032951  0.021100\n",
       "2018-12-20 -0.012848 -0.024341  0.005484  0.003947  0.000000 -0.004003\n",
       "...              ...       ...       ...       ...       ...       ...\n",
       "2018-10-01  0.000000 -0.018855  0.012712  0.003578 -0.036179 -0.013906\n",
       "2018-09-01 -0.003145  0.000000 -0.024793 -0.014109  0.014684 -0.003614\n",
       "2018-08-01 -0.001570  0.015603  0.000000 -0.005845  0.002453  0.022167\n",
       "2018-05-01  0.003676  0.007863 -0.020243  0.007063 -0.004883  0.015635\n",
       "2018-04-01 -0.005744  0.008652  0.024896  0.011310  0.002938  0.004082\n",
       "\n",
       "[243 rows x 6 columns]"
      ]
     },
     "execution_count": 8,
     "metadata": {},
     "output_type": "execute_result"
    }
   ],
   "source": [
    "# Removendo dados nulos\n",
    "df_returns.dropna(inplace=True)\n",
    "df_returns"
   ]
  },
  {
   "cell_type": "code",
   "execution_count": 9,
   "metadata": {},
   "outputs": [
    {
     "data": {
      "text/html": [
       "<div>\n",
       "<style scoped>\n",
       "    .dataframe tbody tr th:only-of-type {\n",
       "        vertical-align: middle;\n",
       "    }\n",
       "\n",
       "    .dataframe tbody tr th {\n",
       "        vertical-align: top;\n",
       "    }\n",
       "\n",
       "    .dataframe thead th {\n",
       "        text-align: right;\n",
       "    }\n",
       "</style>\n",
       "<table border=\"1\" class=\"dataframe\">\n",
       "  <thead>\n",
       "    <tr style=\"text-align: right;\">\n",
       "      <th></th>\n",
       "      <th>ABEV3</th>\n",
       "      <th>PETR3</th>\n",
       "      <th>MGLU3</th>\n",
       "      <th>ITUB3</th>\n",
       "      <th>ALPA3</th>\n",
       "      <th>VALE3</th>\n",
       "    </tr>\n",
       "  </thead>\n",
       "  <tbody>\n",
       "    <tr>\n",
       "      <th>ABEV3</th>\n",
       "      <td>1.000000</td>\n",
       "      <td>0.189090</td>\n",
       "      <td>0.254340</td>\n",
       "      <td>0.365923</td>\n",
       "      <td>0.081239</td>\n",
       "      <td>0.276319</td>\n",
       "    </tr>\n",
       "    <tr>\n",
       "      <th>PETR3</th>\n",
       "      <td>0.189090</td>\n",
       "      <td>1.000000</td>\n",
       "      <td>0.310321</td>\n",
       "      <td>0.463541</td>\n",
       "      <td>0.044192</td>\n",
       "      <td>0.242848</td>\n",
       "    </tr>\n",
       "    <tr>\n",
       "      <th>MGLU3</th>\n",
       "      <td>0.254340</td>\n",
       "      <td>0.310321</td>\n",
       "      <td>1.000000</td>\n",
       "      <td>0.407140</td>\n",
       "      <td>0.096564</td>\n",
       "      <td>0.193694</td>\n",
       "    </tr>\n",
       "    <tr>\n",
       "      <th>ITUB3</th>\n",
       "      <td>0.365923</td>\n",
       "      <td>0.463541</td>\n",
       "      <td>0.407140</td>\n",
       "      <td>1.000000</td>\n",
       "      <td>0.120557</td>\n",
       "      <td>0.186002</td>\n",
       "    </tr>\n",
       "    <tr>\n",
       "      <th>ALPA3</th>\n",
       "      <td>0.081239</td>\n",
       "      <td>0.044192</td>\n",
       "      <td>0.096564</td>\n",
       "      <td>0.120557</td>\n",
       "      <td>1.000000</td>\n",
       "      <td>0.005428</td>\n",
       "    </tr>\n",
       "    <tr>\n",
       "      <th>VALE3</th>\n",
       "      <td>0.276319</td>\n",
       "      <td>0.242848</td>\n",
       "      <td>0.193694</td>\n",
       "      <td>0.186002</td>\n",
       "      <td>0.005428</td>\n",
       "      <td>1.000000</td>\n",
       "    </tr>\n",
       "  </tbody>\n",
       "</table>\n",
       "</div>"
      ],
      "text/plain": [
       "          ABEV3     PETR3     MGLU3     ITUB3     ALPA3     VALE3\n",
       "ABEV3  1.000000  0.189090  0.254340  0.365923  0.081239  0.276319\n",
       "PETR3  0.189090  1.000000  0.310321  0.463541  0.044192  0.242848\n",
       "MGLU3  0.254340  0.310321  1.000000  0.407140  0.096564  0.193694\n",
       "ITUB3  0.365923  0.463541  0.407140  1.000000  0.120557  0.186002\n",
       "ALPA3  0.081239  0.044192  0.096564  0.120557  1.000000  0.005428\n",
       "VALE3  0.276319  0.242848  0.193694  0.186002  0.005428  1.000000"
      ]
     },
     "execution_count": 9,
     "metadata": {},
     "output_type": "execute_result"
    }
   ],
   "source": [
    "# Cálculo da correlação entre os ativos\n",
    "correl_matrix = df_returns.corr()\n",
    "correl_matrix"
   ]
  },
  {
   "cell_type": "code",
   "execution_count": 10,
   "metadata": {},
   "outputs": [
    {
     "data": {
      "text/html": [
       "<div>\n",
       "<style scoped>\n",
       "    .dataframe tbody tr th:only-of-type {\n",
       "        vertical-align: middle;\n",
       "    }\n",
       "\n",
       "    .dataframe tbody tr th {\n",
       "        vertical-align: top;\n",
       "    }\n",
       "\n",
       "    .dataframe thead th {\n",
       "        text-align: right;\n",
       "    }\n",
       "</style>\n",
       "<table border=\"1\" class=\"dataframe\">\n",
       "  <thead>\n",
       "    <tr style=\"text-align: right;\">\n",
       "      <th></th>\n",
       "      <th>ABEV3</th>\n",
       "      <th>PETR3</th>\n",
       "      <th>MGLU3</th>\n",
       "      <th>ITUB3</th>\n",
       "      <th>ALPA3</th>\n",
       "      <th>VALE3</th>\n",
       "    </tr>\n",
       "  </thead>\n",
       "  <tbody>\n",
       "    <tr>\n",
       "      <th>ABEV3</th>\n",
       "      <td>0.000186</td>\n",
       "      <td>0.000080</td>\n",
       "      <td>0.000106</td>\n",
       "      <td>0.000083</td>\n",
       "      <td>0.000029</td>\n",
       "      <td>0.000078</td>\n",
       "    </tr>\n",
       "    <tr>\n",
       "      <th>PETR3</th>\n",
       "      <td>0.000080</td>\n",
       "      <td>0.000953</td>\n",
       "      <td>0.000291</td>\n",
       "      <td>0.000237</td>\n",
       "      <td>0.000036</td>\n",
       "      <td>0.000156</td>\n",
       "    </tr>\n",
       "    <tr>\n",
       "      <th>MGLU3</th>\n",
       "      <td>0.000106</td>\n",
       "      <td>0.000291</td>\n",
       "      <td>0.000926</td>\n",
       "      <td>0.000206</td>\n",
       "      <td>0.000077</td>\n",
       "      <td>0.000122</td>\n",
       "    </tr>\n",
       "    <tr>\n",
       "      <th>ITUB3</th>\n",
       "      <td>0.000083</td>\n",
       "      <td>0.000237</td>\n",
       "      <td>0.000206</td>\n",
       "      <td>0.000275</td>\n",
       "      <td>0.000052</td>\n",
       "      <td>0.000064</td>\n",
       "    </tr>\n",
       "    <tr>\n",
       "      <th>ALPA3</th>\n",
       "      <td>0.000029</td>\n",
       "      <td>0.000036</td>\n",
       "      <td>0.000077</td>\n",
       "      <td>0.000052</td>\n",
       "      <td>0.000688</td>\n",
       "      <td>0.000003</td>\n",
       "    </tr>\n",
       "    <tr>\n",
       "      <th>VALE3</th>\n",
       "      <td>0.000078</td>\n",
       "      <td>0.000156</td>\n",
       "      <td>0.000122</td>\n",
       "      <td>0.000064</td>\n",
       "      <td>0.000003</td>\n",
       "      <td>0.000431</td>\n",
       "    </tr>\n",
       "  </tbody>\n",
       "</table>\n",
       "</div>"
      ],
      "text/plain": [
       "          ABEV3     PETR3     MGLU3     ITUB3     ALPA3     VALE3\n",
       "ABEV3  0.000186  0.000080  0.000106  0.000083  0.000029  0.000078\n",
       "PETR3  0.000080  0.000953  0.000291  0.000237  0.000036  0.000156\n",
       "MGLU3  0.000106  0.000291  0.000926  0.000206  0.000077  0.000122\n",
       "ITUB3  0.000083  0.000237  0.000206  0.000275  0.000052  0.000064\n",
       "ALPA3  0.000029  0.000036  0.000077  0.000052  0.000688  0.000003\n",
       "VALE3  0.000078  0.000156  0.000122  0.000064  0.000003  0.000431"
      ]
     },
     "execution_count": 10,
     "metadata": {},
     "output_type": "execute_result"
    }
   ],
   "source": [
    "# Cálculo da covariância entre os ativos\n",
    "cov_matrix = df_returns.cov()\n",
    "cov_matrix"
   ]
  },
  {
   "cell_type": "code",
   "execution_count": 11,
   "metadata": {},
   "outputs": [
    {
     "data": {
      "text/html": [
       "<div>\n",
       "<style scoped>\n",
       "    .dataframe tbody tr th:only-of-type {\n",
       "        vertical-align: middle;\n",
       "    }\n",
       "\n",
       "    .dataframe tbody tr th {\n",
       "        vertical-align: top;\n",
       "    }\n",
       "\n",
       "    .dataframe thead th {\n",
       "        text-align: right;\n",
       "    }\n",
       "</style>\n",
       "<table border=\"1\" class=\"dataframe\">\n",
       "  <thead>\n",
       "    <tr style=\"text-align: right;\">\n",
       "      <th></th>\n",
       "      <th>Retorno</th>\n",
       "      <th>Risco</th>\n",
       "    </tr>\n",
       "  </thead>\n",
       "  <tbody>\n",
       "    <tr>\n",
       "      <th>ABEV3</th>\n",
       "      <td>-0.001198</td>\n",
       "      <td>0.013636</td>\n",
       "    </tr>\n",
       "    <tr>\n",
       "      <th>PETR3</th>\n",
       "      <td>0.002045</td>\n",
       "      <td>0.030865</td>\n",
       "    </tr>\n",
       "    <tr>\n",
       "      <th>MGLU3</th>\n",
       "      <td>0.003923</td>\n",
       "      <td>0.030428</td>\n",
       "    </tr>\n",
       "    <tr>\n",
       "      <th>ITUB3</th>\n",
       "      <td>0.000960</td>\n",
       "      <td>0.016590</td>\n",
       "    </tr>\n",
       "    <tr>\n",
       "      <th>ALPA3</th>\n",
       "      <td>0.000289</td>\n",
       "      <td>0.026235</td>\n",
       "    </tr>\n",
       "    <tr>\n",
       "      <th>VALE3</th>\n",
       "      <td>0.001231</td>\n",
       "      <td>0.020749</td>\n",
       "    </tr>\n",
       "  </tbody>\n",
       "</table>\n",
       "</div>"
      ],
      "text/plain": [
       "        Retorno     Risco\n",
       "ABEV3 -0.001198  0.013636\n",
       "PETR3  0.002045  0.030865\n",
       "MGLU3  0.003923  0.030428\n",
       "ITUB3  0.000960  0.016590\n",
       "ALPA3  0.000289  0.026235\n",
       "VALE3  0.001231  0.020749"
      ]
     },
     "execution_count": 11,
     "metadata": {},
     "output_type": "execute_result"
    }
   ],
   "source": [
    "# Cálculo do retorno e desvio padrão dos ativos\n",
    "mi = df_returns.mean() # média\n",
    "sigma = df_returns.std() # desvio padrão\n",
    "\n",
    "# Criando um DF com as informações acima\n",
    "df_mean_std = pd.DataFrame()\n",
    "df_mean_std['Retorno'] = mi\n",
    "df_mean_std['Risco'] = sigma\n",
    "df_mean_std"
   ]
  },
  {
   "cell_type": "code",
   "execution_count": 12,
   "metadata": {},
   "outputs": [
    {
     "data": {
      "image/png": "[encoded data removed]",
      "text/plain": [
       "<Figure size 864x432 with 1 Axes>"
      ]
     },
     "metadata": {
      "needs_background": "light"
     },
     "output_type": "display_data"
    }
   ],
   "source": [
    "# Gráfico dos ativos: retorno x risco\n",
    "plt.figure(figsize=(12,6))\n",
    "plt.scatter(sigma, mi)\n",
    "plt.xlabel('Risco')\n",
    "plt.ylabel('Retorno')\n",
    "\n",
    "# Nomeando os pontos\n",
    "for i, row in df_mean_std.iterrows():\n",
    "    plt.annotate(i, (row['Risco'], row['Retorno']))"
   ]
  },
  {
   "cell_type": "code",
   "execution_count": 13,
   "metadata": {
    "colab": {
     "base_uri": "https://localhost:8080/",
     "height": 247
    },
    "executionInfo": {
     "elapsed": 7,
     "status": "error",
     "timestamp": 1639696401637,
     "user": {
      "displayName": "Gustavo Previatto",
      "photoUrl": "https://lh3.googleusercontent.com/a-/AOh14GjObmSR4ca42p9ql2BFwTDO-JKvFQe5-jaQaAMvsA=s64",
      "userId": "00510215832706198465"
     },
     "user_tz": 180
    },
    "id": "YO3rclLShPe6",
    "outputId": "09e3a856-7656-4b12-fe8f-0ee90ff6ebd9"
   },
   "outputs": [
    {
     "data": {
      "text/html": [
       "<div>\n",
       "<style scoped>\n",
       "    .dataframe tbody tr th:only-of-type {\n",
       "        vertical-align: middle;\n",
       "    }\n",
       "\n",
       "    .dataframe tbody tr th {\n",
       "        vertical-align: top;\n",
       "    }\n",
       "\n",
       "    .dataframe thead th {\n",
       "        text-align: right;\n",
       "    }\n",
       "</style>\n",
       "<table border=\"1\" class=\"dataframe\">\n",
       "  <thead>\n",
       "    <tr style=\"text-align: right;\">\n",
       "      <th></th>\n",
       "      <th>Retorno</th>\n",
       "      <th>Risco</th>\n",
       "      <th>Peso</th>\n",
       "    </tr>\n",
       "  </thead>\n",
       "  <tbody>\n",
       "    <tr>\n",
       "      <th>ABEV3</th>\n",
       "      <td>-0.001198</td>\n",
       "      <td>0.013636</td>\n",
       "      <td>0.100</td>\n",
       "    </tr>\n",
       "    <tr>\n",
       "      <th>PETR3</th>\n",
       "      <td>0.002045</td>\n",
       "      <td>0.030865</td>\n",
       "      <td>0.025</td>\n",
       "    </tr>\n",
       "    <tr>\n",
       "      <th>MGLU3</th>\n",
       "      <td>0.003923</td>\n",
       "      <td>0.030428</td>\n",
       "      <td>0.025</td>\n",
       "    </tr>\n",
       "    <tr>\n",
       "      <th>ITUB3</th>\n",
       "      <td>0.000960</td>\n",
       "      <td>0.016590</td>\n",
       "      <td>0.500</td>\n",
       "    </tr>\n",
       "    <tr>\n",
       "      <th>ALPA3</th>\n",
       "      <td>0.000289</td>\n",
       "      <td>0.026235</td>\n",
       "      <td>0.050</td>\n",
       "    </tr>\n",
       "    <tr>\n",
       "      <th>VALE3</th>\n",
       "      <td>0.001231</td>\n",
       "      <td>0.020749</td>\n",
       "      <td>0.300</td>\n",
       "    </tr>\n",
       "  </tbody>\n",
       "</table>\n",
       "</div>"
      ],
      "text/plain": [
       "        Retorno     Risco   Peso\n",
       "ABEV3 -0.001198  0.013636  0.100\n",
       "PETR3  0.002045  0.030865  0.025\n",
       "MGLU3  0.003923  0.030428  0.025\n",
       "ITUB3  0.000960  0.016590  0.500\n",
       "ALPA3  0.000289  0.026235  0.050\n",
       "VALE3  0.001231  0.020749  0.300"
      ]
     },
     "execution_count": 13,
     "metadata": {},
     "output_type": "execute_result"
    }
   ],
   "source": [
    "# Compondo uma carteira\n",
    "df_carteira = df_mean_std.copy()\n",
    "\n",
    "# Definindo os pesos\n",
    "w = [10/100, 2.5/100, 2.5/100, 50/100, 5/100, 30/100]\n",
    "df_carteira['Peso'] = w\n",
    "df_carteira"
   ]
  },
  {
   "cell_type": "code",
   "execution_count": 14,
   "metadata": {},
   "outputs": [
    {
     "data": {
      "text/plain": [
       "1.0"
      ]
     },
     "execution_count": 14,
     "metadata": {},
     "output_type": "execute_result"
    }
   ],
   "source": [
    "# Verificando se a soma dos pesos dá 100%\n",
    "df_carteira['Peso'].sum()"
   ]
  },
  {
   "cell_type": "code",
   "execution_count": 15,
   "metadata": {},
   "outputs": [
    {
     "name": "stdout",
     "output_type": "stream",
     "text": [
      "Retorno esperado: 0.0893%, risco: 1.2818%\n"
     ]
    }
   ],
   "source": [
    "# Cálculo de retorno e risco da carteira\n",
    "mi_P = (df_carteira['Peso'] * df_carteira['Retorno']).sum()\n",
    "\n",
    "# Expressão geral de cálculo (Markowitz) do desvio-padrão de uma carteira de n ativos\n",
    "sigma_P = np.sqrt(np.dot(df_carteira['Peso'], np.dot(cov_matrix, df_carteira['Peso'])))\n",
    "\n",
    "print(f'Retorno esperado: {round(mi_P*100, 4)}%, risco: {round(sigma_P*100, 4)}%')"
   ]
  },
  {
   "cell_type": "code",
   "execution_count": 16,
   "metadata": {},
   "outputs": [
    {
     "data": {
      "image/png": "[encoded data removed]",
      "text/plain": [
       "<Figure size 864x432 with 1 Axes>"
      ]
     },
     "metadata": {
      "needs_background": "light"
     },
     "output_type": "display_data"
    }
   ],
   "source": [
    "# Gráfico dos ativos e da carteira: retorno x risco\n",
    "\n",
    "plt.figure(figsize=(12,6))\n",
    "plt.scatter(sigma, mi)\n",
    "# Nomeando os pontos\n",
    "for i, row in df_mean_std.iterrows():\n",
    "    plt.annotate(i, (row['Risco'], row['Retorno']))\n",
    "    \n",
    "plt.scatter(sigma_P, mi_P)\n",
    "plt.annotate('Carteira', (sigma_P, mi_P))\n",
    "\n",
    "plt.xlabel('Risco')\n",
    "plt.ylabel('Retorno');"
   ]
  },
  {
   "cell_type": "markdown",
   "metadata": {},
   "source": [
    "Essa carteira conseguiu um retorno próximo ao do \"ITUB3\", mas com o menor risco, em relação a todos os ativos acima."
   ]
  },
  {
   "cell_type": "code",
   "execution_count": 17,
   "metadata": {},
   "outputs": [
    {
     "data": {
      "image/png": "[encoded data removed]",
      "text/plain": [
       "<Figure size 864x432 with 1 Axes>"
      ]
     },
     "metadata": {
      "needs_background": "light"
     },
     "output_type": "display_data"
    }
   ],
   "source": [
    "# Simulando carteiras com pesos diferentes\n",
    "n_ativos = len(df_carteira)\n",
    "\n",
    "mi_test = []\n",
    "sigma_test = []\n",
    "\n",
    "for i in range(10000):\n",
    "    # Select random weights and normalize to set the sum to 1\n",
    "    w = np.random.random(n_ativos)\n",
    "    w = w/np.sum(w)\n",
    "    \n",
    "    mi_test.append((w*mi).sum())\n",
    "    sigma_test.append(np.sqrt(np.dot(w, np.dot(cov_matrix, w))))\n",
    "    \n",
    "# Gráfico\n",
    "plt.figure(figsize=(12,6))    \n",
    "plt.scatter(sigma_test, mi_test)\n",
    "plt.xticks(np.arange(min(sigma_test), max(sigma_test), 0.0005), rotation=45)\n",
    "plt.grid(visible=True)\n",
    "plt.xlabel('Risco')\n",
    "plt.ylabel('Retorno');"
   ]
  },
  {
   "cell_type": "markdown",
   "metadata": {},
   "source": [
    "## Otimização de portfólio\n",
    "\n",
    "Todo processo de otimização necessita da elaboração de uma função objetiva e da definição de um conjunto de restrições (se houver). Por exemplo, podemos minimizar uma função custo ou maximizar uma função de lucro. No nosso caso, utilizando a teoria de portfólio de Markowitz, desejamos uma das duas coisas:\n",
    "- minimizar a volatilidade da carteira ou\n",
    "- maximizar os retornos esperados\n",
    "\n",
    "Analisaremos adiante cada um dos casos."
   ]
  },
  {
   "cell_type": "markdown",
   "metadata": {},
   "source": [
    "### Minimizar a volatilidade\n",
    "\n",
    "Neste caso, desejamos obter um conjunto de pesos para os ativos da análise, tais que o risco da carteira ponderada por estes pesos seja o menor possível. Podemos escrever este objetivo da seguinte forma:\n",
    "\n",
    "$$ min F(w) = \\sqrt{\\sum_{i=1}^N \\sum_{j=1}^N W_i \\cdot W_j \\cdot COV_{i,j}} $$\n",
    "\n",
    "Contudo, devemos considerar nossas restrições. A primeira delas refere-se aos valores dos pesos. Por definição, estes devem sempre somar 1. Portanto:\n",
    "\n",
    "$$\\sum_{i=1}^N W_i = 1 $$\n",
    "\n",
    "ou\n",
    "\n",
    "$$\\sum_{i=1}^N W_i - 1 = 0 $$\n",
    "\n",
    "A segunda restrição refere-se ao retorno desejado para a carteira, $\\mu$. Para que este objetivo seja alcançado, podemos definir:\n",
    "\n",
    "$$\\sum_{i=1}^N W_i r_i = \\mu $$\n",
    "\n",
    "ou\n",
    "\n",
    "$$\\sum_{i=1}^N W_i r_i - \\mu = 0 $$\n",
    "\n",
    "Por fim, precisamos que os pesos possuam valores positivos e sejam menores que 100\\%:\n",
    "\n",
    "$$ w_i >= 0, \\forall i=1,...,n $$\n",
    "$$ w_i <= 1, \\forall i=1,...,n $$\n",
    "\n",
    "O que o cálculo numérico realiza é uma busca para encontrar o melhor conjunto de pesos para cada ativo que garanta que as restrições são respeitadas e que se tenha o menor risco possível."
   ]
  },
  {
   "cell_type": "markdown",
   "metadata": {},
   "source": [
    "---\n",
    "\n",
    "Biblioteca Python utilizada para otimização:\n",
    "\n",
    "https://docs.scipy.org/doc/scipy/reference/generated/scipy.optimize.minimize.html\n",
    "\n",
    "---\n"
   ]
  },
  {
   "cell_type": "code",
   "execution_count": 18,
   "metadata": {},
   "outputs": [],
   "source": [
    "# Definindo função objetivo\n",
    "def f_obj_min_risk(w):\n",
    "    return np.sqrt(np.dot(w, np.dot(cov_matrix, w)))\n",
    "\n",
    "# Definindo valor inicial\n",
    "w_ini = np.array([1/len(mi)]* len(mi)) "
   ]
  },
  {
   "cell_type": "code",
   "execution_count": 19,
   "metadata": {},
   "outputs": [],
   "source": [
    "# Definindo o retorno desejado\n",
    "ret = 0.0015\n",
    "\n",
    "# Definindo restrições\n",
    "constraints = [{'type': 'eq', 'fun': lambda x: sum(x) - 1}, # primeira restrição\n",
    "               {'type': 'eq', 'fun': lambda x: sum(x*mi) - ret}] # segunda restrição\n",
    "\n",
    "# Definindo limites para os pesos\n",
    "bounds = tuple((0, 1) for x in range(len(w))) "
   ]
  },
  {
   "cell_type": "code",
   "execution_count": 20,
   "metadata": {},
   "outputs": [
    {
     "data": {
      "text/plain": [
       "     fun: 0.013739485026429158\n",
       "     jac: array([0.00559057, 0.01576803, 0.02120025, 0.01186914, 0.01034408,\n",
       "       0.01292154])\n",
       " message: 'Optimization terminated successfully'\n",
       "    nfev: 113\n",
       "     nit: 16\n",
       "    njev: 16\n",
       "  status: 0\n",
       " success: True\n",
       "       x: array([1.01487254e-19, 3.22952155e-02, 1.78853741e-01, 3.29297759e-01,\n",
       "       1.58542782e-01, 3.01010502e-01])"
      ]
     },
     "execution_count": 20,
     "metadata": {},
     "output_type": "execute_result"
    }
   ],
   "source": [
    "result = solver.minimize(f_obj_min_risk, w_ini, constraints=constraints, bounds=bounds, \n",
    "                         method='SLSQP')\n",
    "result"
   ]
  },
  {
   "cell_type": "code",
   "execution_count": 21,
   "metadata": {},
   "outputs": [
    {
     "name": "stdout",
     "output_type": "stream",
     "text": [
      "Pesos (%): [0.0, 3.23, 17.89, 32.93, 15.85, 30.1]\n",
      "Risco portfólio (%): 1.37\n"
     ]
    }
   ],
   "source": [
    "pesos = [round(w*100, 2) for w in result.x]\n",
    "print(f'Pesos (%): {pesos}\\nRisco portfólio (%): {round(result.fun*100,2)}')"
   ]
  },
  {
   "cell_type": "code",
   "execution_count": 22,
   "metadata": {},
   "outputs": [
    {
     "data": {
      "image/png": "[encoded data removed]",
      "text/plain": [
       "<Figure size 432x288 with 1 Axes>"
      ]
     },
     "metadata": {
      "needs_background": "light"
     },
     "output_type": "display_data"
    }
   ],
   "source": [
    "# Simulando para diversos retornos (buscando a fronteira eficiente)\n",
    "ret_range = np.arange(-0.002, 0.005, 0.0001)\n",
    "sigma_sim = []\n",
    "\n",
    "for ret in ret_range:\n",
    "    constraints = [{'type': 'eq', 'fun': lambda x: sum(x) - 1}, # primeira restrição\n",
    "                   {'type': 'eq', 'fun': lambda x: sum(x*mi) - ret}] # segunda restrição\n",
    "    \n",
    "    result = solver.minimize(f_obj_min_risk, w_ini, constraints=constraints, bounds=bounds, \n",
    "                         method='SLSQP')\n",
    "    sigma_sim.append(result.fun)\n",
    "    \n",
    "plt.plot(sigma_sim, ret_range, '--');"
   ]
  },
  {
   "cell_type": "markdown",
   "metadata": {},
   "source": [
    "### Maximizar o retorno\n",
    "Neste caso, fixamos a volatilidade desejada $\\sigma_P$ e definimos a função objetivo para ampliar os retornos calculados a partir dos pesos. O problema de otimização pode ser rezumido por:\n",
    "\n",
    "$$ max F(w) = \\sum_{i=1}^N W_i r_i $$\n",
    "\n",
    "Sujeito a:\n",
    "\n",
    "$$\\sqrt{\\sum_{i=1}^N \\sum_{j=1}^N W_i \\cdot W_j \\cdot COV_{i,j}} = \\sigma_P $$\n",
    "$$\\sum_{i=1}^N W_i - 1 = 0 $$\n",
    "$$ w_i >= 0, \\forall i=1,...,n $$\n",
    "$$ w_i <= 1, \\forall i=1,...,n $$\n",
    "\n",
    "Nas bibliotecas existentes, os problemas de otimização sempre são descritas como minimização. Mas isto não é um problema, pois podemos simplesmente inverter o sinal da função objetivo:\n",
    "\n",
    "$$ min F(w) = - \\sum_{i=1}^N W_i r_i $$"
   ]
  },
  {
   "cell_type": "code",
   "execution_count": 23,
   "metadata": {
    "id": "XnwlfcHChPe9"
   },
   "outputs": [],
   "source": [
    "# Definindo função objetivo\n",
    "def f_obj_max_ret(w):\n",
    "    return -((w*mi).sum())\n",
    "\n",
    "# Definindo valor inicial\n",
    "w_ini = np.array([1/len(mi)]* len(mi))"
   ]
  },
  {
   "cell_type": "code",
   "execution_count": 24,
   "metadata": {},
   "outputs": [],
   "source": [
    "# Definindo o risco desejado\n",
    "risk = 0.01374\n",
    "\n",
    "# Definindo restrições\n",
    "constraints = [{'type': 'eq', 'fun': lambda x: sum(x) - 1},\n",
    "              {'type': 'eq', 'fun': lambda x: f_obj_min_risk(x) - risk}]\n",
    "\n",
    "# Definindo limites para os pesos\n",
    "bounds = tuple((0, 1) for x in range(len(w))) "
   ]
  },
  {
   "cell_type": "code",
   "execution_count": 25,
   "metadata": {},
   "outputs": [
    {
     "data": {
      "text/plain": [
       "     fun: -0.001489550289821001\n",
       "     jac: array([ 0.00119843, -0.0020454 , -0.00392319, -0.00095984, -0.00028871,\n",
       "       -0.00123058])\n",
       " message: 'Optimization terminated successfully'\n",
       "    nfev: 112\n",
       "     nit: 16\n",
       "    njev: 16\n",
       "  status: 0\n",
       " success: True\n",
       "       x: array([0.0136822 , 0.03890158, 0.17641758, 0.30028959, 0.14144122,\n",
       "       0.32926783])"
      ]
     },
     "execution_count": 25,
     "metadata": {},
     "output_type": "execute_result"
    }
   ],
   "source": [
    "# Imprime resultado\n",
    "result = solver.minimize(f_obj_max_ret, w_ini, constraints=constraints, bounds=bounds, \n",
    "                         method='SLSQP')\n",
    "result"
   ]
  },
  {
   "cell_type": "code",
   "execution_count": 26,
   "metadata": {},
   "outputs": [
    {
     "name": "stdout",
     "output_type": "stream",
     "text": [
      "Pesos (%): [1.37, 3.89, 17.64, 30.03, 14.14, 32.93]\n",
      "Retorno portfólio (%): 0.149\n"
     ]
    }
   ],
   "source": [
    "pesos = [round(w*100, 2) for w in result.x]\n",
    "print(f'Pesos (%): {pesos}\\nRetorno portfólio (%): {round(abs(result.fun)*100,4)}')"
   ]
  },
  {
   "cell_type": "code",
   "execution_count": 27,
   "metadata": {},
   "outputs": [],
   "source": [
    "# Simulando para diversos riscos (buscando a fronteira eficiente)\n",
    "risk_range = np.arange(0.01, 0.025, 0.0001)\n",
    "mi_sim = []\n",
    "\n",
    "for risk in risk_range:\n",
    "    constraints = [{'type': 'eq', 'fun': lambda x: sum(x) - 1},\n",
    "              {'type': 'eq', 'fun': lambda x: f_obj_min_risk(x) - risk}]\n",
    "\n",
    "    result = solver.minimize(f_obj_max_ret, w_ini, constraints=constraints, bounds=bounds, \n",
    "                         method='SLSQP')\n",
    "    mi_sim.append(abs(result.fun))"
   ]
  },
  {
   "cell_type": "code",
   "execution_count": 28,
   "metadata": {},
   "outputs": [
    {
     "data": {
      "image/png": "[encoded data removed]",
      "text/plain": [
       "<Figure size 432x288 with 1 Axes>"
      ]
     },
     "metadata": {
      "needs_background": "light"
     },
     "output_type": "display_data"
    }
   ],
   "source": [
    "# Gráfico \n",
    "plt.plot(risk_range, mi_sim, '--')\n",
    "plt.grid(visible=True)\n",
    "plt.xlabel('Risco')\n",
    "plt.ylabel('Retorno');"
   ]
  },
  {
   "cell_type": "code",
   "execution_count": null,
   "metadata": {},
   "outputs": [],
   "source": []
  }
 ],
 "metadata": {
  "colab": {
   "name": "Aula 11 - Atividade Teoria de portfólio, beta e CAPM.ipynb",
   "provenance": []
  },
  "kernelspec": {
   "display_name": "Python 3 (ipykernel)",
   "language": "python",
   "name": "python3"
  },
  "language_info": {
   "codemirror_mode": {
    "name": "ipython",
    "version": 3
   },
   "file_extension": ".py",
   "mimetype": "text/x-python",
   "name": "python",
   "nbconvert_exporter": "python",
   "pygments_lexer": "ipython3",
   "version": "3.9.12"
  },
  "latex_envs": {
   "LaTeX_envs_menu_present": true,
   "autoclose": false,
   "autocomplete": true,
   "bibliofile": "biblio.bib",
   "cite_by": "apalike",
   "current_citInitial": 1,
   "eqLabelWithNumbers": true,
   "eqNumInitial": 1,
   "hotkeys": {
    "equation": "Ctrl-E",
    "itemize": "Ctrl-I"
   },
   "labels_anchors": false,
   "latex_user_defs": false,
   "report_style_numbering": false,
   "user_envs_cfg": false
  },
  "toc": {
   "base_numbering": 1,
   "nav_menu": {},
   "number_sections": true,
   "sideBar": true,
   "skip_h1_title": false,
   "title_cell": "Table of Contents",
   "title_sidebar": "Contents",
   "toc_cell": false,
   "toc_position": {},
   "toc_section_display": true,
   "toc_window_display": false
  },
  "varInspector": {
   "cols": {
    "lenName": 16,
    "lenType": 16,
    "lenVar": 40
   },
   "kernels_config": {
    "python": {
     "delete_cmd_postfix": "",
     "delete_cmd_prefix": "del ",
     "library": "var_list.py",
     "varRefreshCmd": "print(var_dic_list())"
    },
    "r": {
     "delete_cmd_postfix": ") ",
     "delete_cmd_prefix": "rm(",
     "library": "var_list.r",
     "varRefreshCmd": "cat(var_dic_list()) "
    }
   },
   "types_to_exclude": [
    "module",
    "function",
    "builtin_function_or_method",
    "instance",
    "_Feature"
   ],
   "window_display": false
  }
 },
 "nbformat": 4,
 "nbformat_minor": 1
}
